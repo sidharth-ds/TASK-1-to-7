{
  "nbformat": 4,
  "nbformat_minor": 0,
  "metadata": {
    "colab": {
      "name": "MongoDB Telecom Directory.ipynb",
      "provenance": [],
      "collapsed_sections": []
    },
    "kernelspec": {
      "name": "python3",
      "display_name": "Python 3"
    },
    "language_info": {
      "name": "python"
    }
  },
  "cells": [
    {
      "cell_type": "code",
      "execution_count": null,
      "metadata": {
        "id": "dy3f-wbDVvlf"
      },
      "outputs": [],
      "source": [
        "import pymongo"
      ]
    },
    {
      "cell_type": "code",
      "source": [
        "sidharth = pymongo.MongoClient(\"mongodb://<username>:<password>@cluster0-shard-00-00.rd8et.mongodb.net:27017,cluster0-shard-00-01.rd8et.mongodb.net:27017,cluster0-shard-00-02.rd8et.mongodb.net:27017/myFirstDatabase?ssl=true&replicaSet=atlas-232pjm-shard-0&authSource=admin&retryWrites=true&w=majority\")"
      ],
      "metadata": {
        "id": "r25shoWjV0yF"
      },
      "execution_count": null,
      "outputs": []
    },
    {
      "cell_type": "markdown",
      "source": [
        "* create a Database:"
      ],
      "metadata": {
        "id": "p1hEC8U7EZiN"
      }
    },
    {
      "cell_type": "code",
      "source": [
        "db = sidharth[\"Guvi_assessment\"]"
      ],
      "metadata": {
        "id": "2hst6d_kV00-"
      },
      "execution_count": null,
      "outputs": []
    },
    {
      "cell_type": "markdown",
      "source": [
        "* create a Collection:\n"
      ],
      "metadata": {
        "id": "mBb1vInOEW4O"
      }
    },
    {
      "cell_type": "code",
      "source": [
        "col = db[\"Telephone_Directory\"]"
      ],
      "metadata": {
        "id": "Ui2Zro9wV04g"
      },
      "execution_count": null,
      "outputs": []
    },
    {
      "cell_type": "markdown",
      "source": [
        "# create a Directory:"
      ],
      "metadata": {
        "id": "meuI8bKyEdQW"
      }
    },
    {
      "cell_type": "code",
      "source": [
        "directory = [{\"name\":\"SARAVANAN\",\"department\":\"REVENUE_department\",\"designation\":\"SUB_COLLECTOR\",\"mobile\":9445000413},\n",
        "             {\"name\":\"DIVYASHRI\",\"department\":\"REVENUE_department\",\"designation\":\"RDO\",\"mobile\":9444964899},\n",
        "             {\"name\":\"RAJASEKAR\",\"department\":\"RURAL_DEVELOPMENT\",\"designation\":\"ASST_DIRECTOR \",\"mobile\":7402606005},\n",
        "             {\"name\":\"KAVITHA\",\"department\":\"RURAL_DEVELOPMENT\",\"designation\":\"EXECUTIVE_ENGINEER\",\"mobile\":7373704561},\n",
        "             {\"name\":\"MAHESHWARI\",\"department\":\"MUNICIPALITY\",\"designation\":\"COMMISSIONER\",\"mobile\":7397372823},\n",
        "             {\"name\":\"ANANDHAJODHI\",\"department\":\"MUNICIPALITY\",\"designation\":\"MUNICIPAL_ENGINEER\",\"mobile\":9443439329},\n",
        "             {\"name\":\"SATHIYASEELAN\",\"department\":\"HIGHWAYS\",\"designation\":\"DIVISIONAL_ENGINEER\",\"mobile\":9443434004},\n",
        "             {\"name\":\"RAMESH\",\"department\":\"PWD\",\"designation\":\"ENGINEER_WRO\",\"mobile\":9884777234},\n",
        "             {\"name\":\"ARASU\",\"department\":\"PWD\",\"designation\":\"ENGINEER_BUILDINGS\",\"mobile\":9443991445},\n",
        "             {\"name\":\"PALANI\",\"department\":\"HEALTH_department\",\"designation\":\"DDHS\",\"mobile\":9442309909},\n",
        "             {\"name\":\"ANURADHA\",\"department\":\"HEALTH_department\",\"designation\":\"D.O.FOOD_SAFETY\",\"mobile\":9443520332},\n",
        "             {\"name\":\"ABDUL_BHARI\",\"department\":\"FIRE_AND_RESCUE\",\"designation\":\"ADO\",\"mobile\":9445086137},\n",
        "             {\"name\":\"SEKAR\",\"department\":\"TNEB\",\"designation\":\"SUPERINTENDING_ENGINEER\",\"mobile\":9445855444},\n",
        "             {\"name\":\"KOTEESWARI\",\"department\":\"TNEB\",\"designation\":\"AEE\",\"mobile\":9445855156},\n",
        "             {\"name\":\"PREMAVATHY\",\"department\":\"AGRICULTURE\",\"designation\":\" DIRECTOR\",\"mobile\":9445335303},\n",
        "             {\"name\":\"GANESAN\",\"department\":\"AGRICULTURE\",\"designation\":\"ASSISTANT\",\"mobile\":9894215521},\n",
        "             {\"name\":\"SATHYA_MOORTHI\",\"department\":\"EDUCATION\",\"designation\":\"CEO\",\"mobile\":9443065779},\n",
        "             {\"name\":\"ELLAPPAN\",\"department\":\"EDUCATION\",\"designation\":\"DEO\",\"mobile\":9442630704},\n",
        "             {\"name\":\"RADHAKRISHNAN\",\"department\":\"EDUCATION\",\"designation\":\"DEO\",\"mobile\":9444334963},\n",
        "             {\"name\":\"DHINAKARAN\",\"department\":\"TRANSPORT\",\"designation\":\"RTO\",\"mobile\":9384808153},\n",
        "             {\"name\":\"PARVEND\",\"department\":\"TRANSPORT\",\"designation\":\"RTO\",\"mobile\":9384808145},\n",
        "             {\"name\":\"SATHISH\",\"department\":\"FOREST\",\"designation\":\"DFO\",\"mobile\":8919104054},\n",
        "             {\"name\":\"MALA\",\"department\":\"SLUM_CLEARANCE_BOARD\",\"designation\":\"EE\",\"mobile\":8637400624},\n",
        "             {\"name\":\"SASIKUMAR\",\"department\":\"FACTORIES\",\"designation\":\"DD_INSPECTOR\",\"mobile\":9941186500},\n",
        "             {\"name\":\"VIMALANADHAN\",\"department\":\"FACTORIES\",\"designation\":\"INSPECTOR_OF_LABOUR\",\"mobile\":8778619552}\n",
        "             ]"
      ],
      "metadata": {
        "id": "lOnqqtuSpOFP"
      },
      "execution_count": null,
      "outputs": []
    },
    {
      "cell_type": "markdown",
      "source": [
        "# Insert the record into the collection:"
      ],
      "metadata": {
        "id": "E5nsYf1rEofx"
      }
    },
    {
      "cell_type": "code",
      "source": [
        "a = col.insert_many(directory)"
      ],
      "metadata": {
        "id": "yZrLSg3RpOIn"
      },
      "execution_count": null,
      "outputs": []
    },
    {
      "cell_type": "markdown",
      "source": [
        "# Make a query to find records you just created:"
      ],
      "metadata": {
        "id": "fn4gn8hREufZ"
      }
    },
    {
      "cell_type": "code",
      "source": [
        "for i in col.find({},{\"_id\":0}):\n",
        "  print(i)"
      ],
      "metadata": {
        "colab": {
          "base_uri": "https://localhost:8080/"
        },
        "id": "M0C72C2a8w6U",
        "outputId": "cf8879ed-5686-43dc-849a-351e74d6c750"
      },
      "execution_count": null,
      "outputs": [
        {
          "output_type": "stream",
          "name": "stdout",
          "text": [
            "{'name': 'SARAVANAN', 'department': 'REVENUE_department', 'designation': 'SUB_COLLECTOR', 'mobile': 9445000413}\n",
            "{'name': 'DIVYASHRI', 'department': 'REVENUE_department', 'designation': 'RDO', 'mobile': 9444964899}\n",
            "{'name': 'RAJASEKAR', 'department': 'RURAL_DEVELOPMENT', 'designation': 'ASST_DIRECTOR ', 'mobile': 7402606005}\n",
            "{'name': 'KAVITHA', 'department': 'RURAL_DEVELOPMENT', 'designation': 'EXECUTIVE_ENGINEER', 'mobile': 7373704561}\n",
            "{'name': 'MAHESHWARI', 'department': 'MUNICIPALITY', 'designation': 'COMMISSIONER', 'mobile': 7397372823}\n",
            "{'name': 'ANANDHAJODHI', 'department': 'MUNICIPALITY', 'designation': 'MUNICIPAL_ENGINEER', 'mobile': 9443439329}\n",
            "{'name': 'SATHIYASEELAN', 'department': 'HIGHWAYS', 'designation': 'DIVISIONAL_ENGINEER', 'mobile': 9443434004}\n",
            "{'name': 'RAMESH', 'department': 'PWD', 'designation': 'ENGINEER_WRO', 'mobile': 9884777234}\n",
            "{'name': 'ARASU', 'department': 'PWD', 'designation': 'ENGINEER_BUILDINGS', 'mobile': 9443991445}\n",
            "{'name': 'PALANI', 'department': 'HEALTH_department', 'designation': 'DDHS', 'mobile': 9442309909}\n",
            "{'name': 'ANURADHA', 'department': 'HEALTH_department', 'designation': 'D.O.FOOD_SAFETY', 'mobile': 9443520332}\n",
            "{'name': 'ABDUL_BHARI', 'department': 'FIRE_AND_RESCUE', 'designation': 'ADO', 'mobile': 9445086137}\n",
            "{'name': 'SEKAR', 'department': 'TNEB', 'designation': 'SUPERINTENDING_ENGINEER', 'mobile': 9445855444}\n",
            "{'name': 'KOTEESWARI', 'department': 'TNEB', 'designation': 'AEE', 'mobile': 9445855156}\n",
            "{'name': 'PREMAVATHY', 'department': 'AGRICULTURE', 'designation': ' DIRECTOR', 'mobile': 9445335303}\n",
            "{'name': 'GANESAN', 'department': 'AGRICULTURE', 'designation': 'ASSISTANT', 'mobile': 9894215521}\n",
            "{'name': 'SATHYA_MOORTHI', 'department': 'EDUCATION', 'designation': 'CEO', 'mobile': 9443065779}\n",
            "{'name': 'ELLAPPAN', 'department': 'EDUCATION', 'designation': 'DEO', 'mobile': 9442630704}\n",
            "{'name': 'RADHAKRISHNAN', 'department': 'EDUCATION', 'designation': 'DEO', 'mobile': 9444334963}\n",
            "{'name': 'DHINAKARAN', 'department': 'TRANSPORT', 'designation': 'RTO', 'mobile': 9384808153}\n",
            "{'name': 'PARVEND', 'department': 'TRANSPORT', 'designation': 'RTO', 'mobile': 9384808145}\n",
            "{'name': 'SATHISH', 'department': 'FOREST', 'designation': 'DFO', 'mobile': 8919104054}\n",
            "{'name': 'MALA', 'department': 'SLUM_CLEARANCE_BOARD', 'designation': 'EE', 'mobile': 8637400624}\n",
            "{'name': 'SASIKUMAR', 'department': 'FACTORIES', 'designation': 'DD_INSPECTOR', 'mobile': 9941186500}\n",
            "{'name': 'VIMALANADHAN', 'department': 'FACTORIES', 'designation': 'INSPECTOR_OF_LABOUR', 'mobile': 8778619552}\n"
          ]
        }
      ]
    },
    {
      "cell_type": "markdown",
      "source": [
        "# Modify the records, use the update_one() method:"
      ],
      "metadata": {
        "id": "UAUVTRb9EN60"
      }
    },
    {
      "cell_type": "code",
      "source": [
        "# updating the mobile_number & department of Radhakrishnan:\n",
        "\n",
        "col.update_one({\"name\":\"RADHAKRISHNAN\"},{\"$set\":{\"department\":\"HEALTH_department\",\"mobile\":9999555500}})    "
      ],
      "metadata": {
        "colab": {
          "base_uri": "https://localhost:8080/"
        },
        "id": "oLBI8dwf8w0Q",
        "outputId": "4fcea143-0ce4-416a-c67c-31e6e4a9f8da"
      },
      "execution_count": null,
      "outputs": [
        {
          "output_type": "execute_result",
          "data": {
            "text/plain": [
              "<pymongo.results.UpdateResult at 0x7f8ccd4a6e10>"
            ]
          },
          "metadata": {},
          "execution_count": 70
        }
      ]
    },
    {
      "cell_type": "code",
      "source": [
        "for i in col.find({\"department\":{\"$in\":[\"HEALTH_department\",\"EDUCATION\"]}},{\"_id\":0,\"name\":1,\"department\":1,\"mobile\":1}):\n",
        "  print(i)"
      ],
      "metadata": {
        "colab": {
          "base_uri": "https://localhost:8080/"
        },
        "id": "kAhm0NvtFsz5",
        "outputId": "fcb69810-5fac-4f2b-c038-9c228a6247a8"
      },
      "execution_count": null,
      "outputs": [
        {
          "output_type": "stream",
          "name": "stdout",
          "text": [
            "{'name': 'PALANI', 'department': 'HEALTH_department', 'mobile': 9442309909}\n",
            "{'name': 'ANURADHA', 'department': 'HEALTH_department', 'mobile': 9443520332}\n",
            "{'name': 'SATHYA_MOORTHI', 'department': 'EDUCATION', 'mobile': 9443065779}\n",
            "{'name': 'ELLAPPAN', 'department': 'EDUCATION', 'mobile': 9442630704}\n",
            "{'name': 'RADHAKRISHNAN', 'department': 'HEALTH_department', 'mobile': 9999555500}\n"
          ]
        }
      ]
    },
    {
      "cell_type": "markdown",
      "source": [
        "# Delete the record, use delete_one() method:"
      ],
      "metadata": {
        "id": "f_nje_dAE75R"
      }
    },
    {
      "cell_type": "code",
      "source": [
        "# A record belonging to Forest department is deleted:\n",
        "\n",
        "col.delete_one({\"department\":\"FOREST\"})"
      ],
      "metadata": {
        "colab": {
          "base_uri": "https://localhost:8080/"
        },
        "id": "a6HZcRXfE_mp",
        "outputId": "2b983b0e-1f1c-4eeb-bcb2-a191ca7d97ff"
      },
      "execution_count": null,
      "outputs": [
        {
          "output_type": "execute_result",
          "data": {
            "text/plain": [
              "<pymongo.results.DeleteResult at 0x7f8ccd491cd0>"
            ]
          },
          "metadata": {},
          "execution_count": 73
        }
      ]
    },
    {
      "cell_type": "code",
      "source": [
        "for i in col.find({},{\"_id\":0,\"department\":1,\"mobile\":1}):   \n",
        "  print(i)"
      ],
      "metadata": {
        "colab": {
          "base_uri": "https://localhost:8080/"
        },
        "id": "9Q4bPlvxJf6m",
        "outputId": "93c1ea07-9fdf-479f-9a94-e66fb2e45ac9"
      },
      "execution_count": null,
      "outputs": [
        {
          "output_type": "stream",
          "name": "stdout",
          "text": [
            "{'department': 'REVENUE_department', 'mobile': 9445000413}\n",
            "{'department': 'REVENUE_department', 'mobile': 9444964899}\n",
            "{'department': 'RURAL_DEVELOPMENT', 'mobile': 7402606005}\n",
            "{'department': 'RURAL_DEVELOPMENT', 'mobile': 7373704561}\n",
            "{'department': 'MUNICIPALITY', 'mobile': 7397372823}\n",
            "{'department': 'MUNICIPALITY', 'mobile': 9443439329}\n",
            "{'department': 'HIGHWAYS', 'mobile': 9443434004}\n",
            "{'department': 'PWD', 'mobile': 9884777234}\n",
            "{'department': 'PWD', 'mobile': 9443991445}\n",
            "{'department': 'HEALTH_department', 'mobile': 9442309909}\n",
            "{'department': 'HEALTH_department', 'mobile': 9443520332}\n",
            "{'department': 'FIRE_AND_RESCUE', 'mobile': 9445086137}\n",
            "{'department': 'TNEB', 'mobile': 9445855444}\n",
            "{'department': 'TNEB', 'mobile': 9445855156}\n",
            "{'department': 'AGRICULTURE', 'mobile': 9445335303}\n",
            "{'department': 'AGRICULTURE', 'mobile': 9894215521}\n",
            "{'department': 'EDUCATION', 'mobile': 9443065779}\n",
            "{'department': 'EDUCATION', 'mobile': 9442630704}\n",
            "{'department': 'HEALTH_department', 'mobile': 9999555500}\n",
            "{'department': 'TRANSPORT', 'mobile': 9384808153}\n",
            "{'department': 'TRANSPORT', 'mobile': 9384808145}\n",
            "{'department': 'SLUM_CLEARANCE_BOARD', 'mobile': 8637400624}\n",
            "{'department': 'FACTORIES', 'mobile': 9941186500}\n",
            "{'department': 'FACTORIES', 'mobile': 8778619552}\n"
          ]
        }
      ]
    }
  ]
}