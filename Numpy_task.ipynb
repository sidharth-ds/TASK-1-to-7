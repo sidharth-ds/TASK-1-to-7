{
  "cells": [
    {
      "cell_type": "markdown",
      "metadata": {
        "id": "view-in-github",
        "colab_type": "text"
      },
      "source": [
        "<a href=\"https://colab.research.google.com/github/sidharth-ds/TASK-1-to-7/blob/main/Numpy_task.ipynb\" target=\"_parent\"><img src=\"https://colab.research.google.com/assets/colab-badge.svg\" alt=\"Open In Colab\"/></a>"
      ]
    },
    {
      "cell_type": "markdown",
      "metadata": {
        "id": "3CyYyC-LRCp0"
      },
      "source": [
        "# Numpy\n",
        "\n"
      ]
    },
    {
      "cell_type": "markdown",
      "metadata": {
        "id": "9Ki-6Qd3RCp5"
      },
      "source": [
        "#### 1. Import the numpy package under the name `np` (★☆☆) \n",
        "(**hint**: import … as …)"
      ]
    },
    {
      "cell_type": "code",
      "execution_count": null,
      "metadata": {
        "collapsed": true,
        "id": "xGRfEVGuRCp6"
      },
      "outputs": [],
      "source": [
        "import numpy as np"
      ]
    },
    {
      "cell_type": "markdown",
      "metadata": {
        "id": "WAQjJ7dYRCp7"
      },
      "source": [
        "#### 2. Print the numpy version and the configuration (★☆☆) \n",
        "(**hint**: np.\\_\\_version\\_\\_, np.show\\_config)"
      ]
    },
    {
      "cell_type": "code",
      "execution_count": null,
      "metadata": {
        "id": "lLReucuHRCp7",
        "colab": {
          "base_uri": "https://localhost:8080/",
          "height": 35
        },
        "outputId": "90d79fb7-2864-41e6-a589-f0a7d7eadeee"
      },
      "outputs": [
        {
          "output_type": "execute_result",
          "data": {
            "application/vnd.google.colaboratory.intrinsic+json": {
              "type": "string"
            },
            "text/plain": [
              "'1.21.5'"
            ]
          },
          "metadata": {},
          "execution_count": 2
        }
      ],
      "source": [
        "np.__version__"
      ]
    },
    {
      "cell_type": "code",
      "source": [
        "np.show_config()"
      ],
      "metadata": {
        "colab": {
          "base_uri": "https://localhost:8080/"
        },
        "id": "36aMHGFbWwtD",
        "outputId": "31b472e4-d34b-40da-e6a0-c68848f2386a"
      },
      "execution_count": null,
      "outputs": [
        {
          "output_type": "stream",
          "name": "stdout",
          "text": [
            "blas_mkl_info:\n",
            "  NOT AVAILABLE\n",
            "blis_info:\n",
            "  NOT AVAILABLE\n",
            "openblas_info:\n",
            "    libraries = ['openblas', 'openblas']\n",
            "    library_dirs = ['/usr/local/lib']\n",
            "    language = c\n",
            "    define_macros = [('HAVE_CBLAS', None)]\n",
            "    runtime_library_dirs = ['/usr/local/lib']\n",
            "blas_opt_info:\n",
            "    libraries = ['openblas', 'openblas']\n",
            "    library_dirs = ['/usr/local/lib']\n",
            "    language = c\n",
            "    define_macros = [('HAVE_CBLAS', None)]\n",
            "    runtime_library_dirs = ['/usr/local/lib']\n",
            "lapack_mkl_info:\n",
            "  NOT AVAILABLE\n",
            "openblas_lapack_info:\n",
            "    libraries = ['openblas', 'openblas']\n",
            "    library_dirs = ['/usr/local/lib']\n",
            "    language = c\n",
            "    define_macros = [('HAVE_CBLAS', None)]\n",
            "    runtime_library_dirs = ['/usr/local/lib']\n",
            "lapack_opt_info:\n",
            "    libraries = ['openblas', 'openblas']\n",
            "    library_dirs = ['/usr/local/lib']\n",
            "    language = c\n",
            "    define_macros = [('HAVE_CBLAS', None)]\n",
            "    runtime_library_dirs = ['/usr/local/lib']\n",
            "Supported SIMD extensions in this NumPy install:\n",
            "    baseline = SSE,SSE2,SSE3\n",
            "    found = SSSE3,SSE41,POPCNT,SSE42,AVX,F16C,FMA3,AVX2\n",
            "    not found = AVX512F,AVX512CD,AVX512_KNL,AVX512_KNM,AVX512_SKX,AVX512_CLX,AVX512_CNL,AVX512_ICL\n"
          ]
        }
      ]
    },
    {
      "cell_type": "markdown",
      "metadata": {
        "id": "_c1vKPnpRCp7"
      },
      "source": [
        "#### 3. Create a null vector of size 10 (★☆☆) \n",
        "(**hint**: np.zeros)"
      ]
    },
    {
      "cell_type": "code",
      "execution_count": null,
      "metadata": {
        "id": "_lIYy8qpRCp8",
        "colab": {
          "base_uri": "https://localhost:8080/"
        },
        "outputId": "93f3efb8-f0b0-439c-c7ab-a47a9f45dc05"
      },
      "outputs": [
        {
          "output_type": "execute_result",
          "data": {
            "text/plain": [
              "array([0., 0., 0., 0., 0., 0., 0., 0., 0., 0.])"
            ]
          },
          "metadata": {},
          "execution_count": 4
        }
      ],
      "source": [
        "np.zeros(10)"
      ]
    },
    {
      "cell_type": "markdown",
      "metadata": {
        "id": "3Df3y7a9RCp8"
      },
      "source": [
        "#### 4.  How to find the memory size of any array (★☆☆) \n",
        "(**hint**: size, itemsize)"
      ]
    },
    {
      "cell_type": "code",
      "source": [
        "x = np.zeros(10)\n",
        "x.size"
      ],
      "metadata": {
        "colab": {
          "base_uri": "https://localhost:8080/"
        },
        "id": "1pOEvPo6XE2V",
        "outputId": "f4c2b55f-c2c1-49fa-9c5e-7e30c8c08706"
      },
      "execution_count": null,
      "outputs": [
        {
          "output_type": "execute_result",
          "data": {
            "text/plain": [
              "10"
            ]
          },
          "metadata": {},
          "execution_count": 5
        }
      ]
    },
    {
      "cell_type": "code",
      "execution_count": null,
      "metadata": {
        "id": "fuvcVgmIRCp9",
        "colab": {
          "base_uri": "https://localhost:8080/"
        },
        "outputId": "f43ad950-fc73-4226-9e03-4c8d76f2f746"
      },
      "outputs": [
        {
          "output_type": "execute_result",
          "data": {
            "text/plain": [
              "8"
            ]
          },
          "metadata": {},
          "execution_count": 6
        }
      ],
      "source": [
        "x = np.zeros(10)\n",
        "x.itemsize"
      ]
    },
    {
      "cell_type": "code",
      "source": [
        "x.size * x.itemsize  # total size"
      ],
      "metadata": {
        "colab": {
          "base_uri": "https://localhost:8080/"
        },
        "id": "5nMCCuB9X0cg",
        "outputId": "afae2400-b03d-4311-abb1-6d2ecce86d8b"
      },
      "execution_count": null,
      "outputs": [
        {
          "output_type": "execute_result",
          "data": {
            "text/plain": [
              "80"
            ]
          },
          "metadata": {},
          "execution_count": 7
        }
      ]
    },
    {
      "cell_type": "markdown",
      "metadata": {
        "id": "D8Av6lRURCp9"
      },
      "source": [
        "#### 5.  How to get the documentation of the numpy add function from the command line? (★☆☆) \n",
        "(**hint**: np.info)"
      ]
    },
    {
      "cell_type": "code",
      "execution_count": null,
      "metadata": {
        "collapsed": true,
        "id": "bpmJJuQaRCp-"
      },
      "outputs": [],
      "source": [
        "np.info(np.add)"
      ]
    },
    {
      "cell_type": "markdown",
      "metadata": {
        "id": "I4jWeCm9RCp-"
      },
      "source": [
        "#### 6.  Create a null vector of size 10 but the fifth value which is 1 (★☆☆) \n",
        "(**hint**: array\\[4\\])"
      ]
    },
    {
      "cell_type": "code",
      "execution_count": null,
      "metadata": {
        "id": "NaPxM90jRCp_",
        "colab": {
          "base_uri": "https://localhost:8080/"
        },
        "outputId": "6ebba547-1c6b-47ac-faee-a54893b09005"
      },
      "outputs": [
        {
          "output_type": "execute_result",
          "data": {
            "text/plain": [
              "array([0., 0., 0., 0., 1., 0., 0., 0., 0., 0.])"
            ]
          },
          "metadata": {},
          "execution_count": 9
        }
      ],
      "source": [
        "x = np.zeros(10)\n",
        "x[4]=1\n",
        "x"
      ]
    },
    {
      "cell_type": "markdown",
      "metadata": {
        "id": "DBUmQqnNRCp_"
      },
      "source": [
        "#### 7.  Create a vector with values ranging from 10 to 49 (★☆☆) \n",
        "(**hint**: np.arange)"
      ]
    },
    {
      "cell_type": "code",
      "execution_count": null,
      "metadata": {
        "id": "VkxT4RmZRCp_",
        "colab": {
          "base_uri": "https://localhost:8080/"
        },
        "outputId": "1e6e45a2-a9b6-4795-9c10-3aaa570a715f"
      },
      "outputs": [
        {
          "output_type": "execute_result",
          "data": {
            "text/plain": [
              "array([10, 11, 12, 13, 14, 15, 16, 17, 18, 19, 20, 21, 22, 23, 24, 25, 26,\n",
              "       27, 28, 29, 30, 31, 32, 33, 34, 35, 36, 37, 38, 39, 40, 41, 42, 43,\n",
              "       44, 45, 46, 47, 48, 49])"
            ]
          },
          "metadata": {},
          "execution_count": 10
        }
      ],
      "source": [
        "x = np.arange(10,50)\n",
        "x"
      ]
    },
    {
      "cell_type": "markdown",
      "metadata": {
        "id": "WcdIVRcERCp_"
      },
      "source": [
        "#### 8.  Reverse a vector (first element becomes last) (★☆☆) \n",
        "(**hint**: array\\[::-1\\])"
      ]
    },
    {
      "cell_type": "code",
      "execution_count": null,
      "metadata": {
        "id": "yXGyXFXPRCqA",
        "colab": {
          "base_uri": "https://localhost:8080/"
        },
        "outputId": "c3e5dbd5-2018-4e5e-9238-f830b55ab63c"
      },
      "outputs": [
        {
          "output_type": "execute_result",
          "data": {
            "text/plain": [
              "array([49, 48, 47, 46, 45, 44, 43, 42, 41, 40, 39, 38, 37, 36, 35, 34, 33,\n",
              "       32, 31, 30, 29, 28, 27, 26, 25, 24, 23, 22, 21, 20, 19, 18, 17, 16,\n",
              "       15, 14, 13, 12, 11, 10])"
            ]
          },
          "metadata": {},
          "execution_count": 11
        }
      ],
      "source": [
        "x = np.arange(10,50)\n",
        "x[::-1]"
      ]
    },
    {
      "cell_type": "markdown",
      "metadata": {
        "id": "f97jpcQ3RCqA"
      },
      "source": [
        "#### 9.  Create a 3x3 matrix with values ranging from 0 to 8 (★☆☆) \n",
        "(**hint**: reshape)"
      ]
    },
    {
      "cell_type": "code",
      "execution_count": null,
      "metadata": {
        "id": "gmdxLlrGRCqA",
        "colab": {
          "base_uri": "https://localhost:8080/"
        },
        "outputId": "162fb233-bb6d-4495-83c6-81279743b31d"
      },
      "outputs": [
        {
          "output_type": "execute_result",
          "data": {
            "text/plain": [
              "array([[0, 1, 2],\n",
              "       [3, 4, 5],\n",
              "       [6, 7, 8]])"
            ]
          },
          "metadata": {},
          "execution_count": 12
        }
      ],
      "source": [
        "x = np.arange(9)\n",
        "x.reshape(3,3)"
      ]
    },
    {
      "cell_type": "markdown",
      "metadata": {
        "id": "lilAS-yqRCqA"
      },
      "source": [
        "#### 10. Find indices of non-zero elements from \\[1,2,0,0,4,0\\] (★☆☆) \n",
        "(**hint**: np.nonzero)"
      ]
    },
    {
      "cell_type": "code",
      "execution_count": null,
      "metadata": {
        "id": "lmoRReXERCqB",
        "colab": {
          "base_uri": "https://localhost:8080/"
        },
        "outputId": "6fb03dda-f898-47b0-d47b-2db4f2db2feb"
      },
      "outputs": [
        {
          "output_type": "execute_result",
          "data": {
            "text/plain": [
              "(array([0, 1, 4]),)"
            ]
          },
          "metadata": {},
          "execution_count": 13
        }
      ],
      "source": [
        "np.nonzero([1,2,0,0,4,0])"
      ]
    },
    {
      "cell_type": "markdown",
      "metadata": {
        "id": "YxR6ImRGRCqB"
      },
      "source": [
        "#### 11. Create a 3x3 identity matrix (★☆☆) \n",
        "(**hint**: np.eye)"
      ]
    },
    {
      "cell_type": "code",
      "execution_count": null,
      "metadata": {
        "id": "_ZpNBE98RCqB",
        "colab": {
          "base_uri": "https://localhost:8080/"
        },
        "outputId": "ea28c1c3-7e87-4f5a-d54a-d7c1f526e2fd"
      },
      "outputs": [
        {
          "output_type": "execute_result",
          "data": {
            "text/plain": [
              "array([[1., 0., 0.],\n",
              "       [0., 1., 0.],\n",
              "       [0., 0., 1.]])"
            ]
          },
          "metadata": {},
          "execution_count": 14
        }
      ],
      "source": [
        "np.eye(3,3)"
      ]
    },
    {
      "cell_type": "markdown",
      "metadata": {
        "id": "lzgDxHJWRCqB"
      },
      "source": [
        "#### 12. Create a 3x3x3 array with random values (★☆☆) \n",
        "(**hint**: np.random.random)"
      ]
    },
    {
      "cell_type": "code",
      "execution_count": null,
      "metadata": {
        "id": "h1pih2F6RCqB",
        "colab": {
          "base_uri": "https://localhost:8080/"
        },
        "outputId": "6f72e963-204e-4c44-9f40-94c3a28901b4"
      },
      "outputs": [
        {
          "output_type": "execute_result",
          "data": {
            "text/plain": [
              "array([[[0.38948847, 0.62193196, 0.16538686],\n",
              "        [0.48942005, 0.1622609 , 0.96750271],\n",
              "        [0.10143077, 0.89027633, 0.94978172]],\n",
              "\n",
              "       [[0.960888  , 0.18065582, 0.39074558],\n",
              "        [0.25502442, 0.13258636, 0.36343318],\n",
              "        [0.5675189 , 0.19703302, 0.38908351]],\n",
              "\n",
              "       [[0.90491001, 0.20722495, 0.59034041],\n",
              "        [0.52489149, 0.7283299 , 0.29709467],\n",
              "        [0.11161152, 0.53040736, 0.97103884]]])"
            ]
          },
          "metadata": {},
          "execution_count": 15
        }
      ],
      "source": [
        "x = np.random.random((3,3,3))      # 3-rows, 3-columns, 3-times\n",
        "x"
      ]
    },
    {
      "cell_type": "markdown",
      "metadata": {
        "id": "tAQXDiASRCqB"
      },
      "source": [
        "#### 13. Create a 10x10 array with random values and find the minimum and maximum values (★☆☆) \n",
        "(**hint**: min, max)"
      ]
    },
    {
      "cell_type": "code",
      "execution_count": null,
      "metadata": {
        "id": "DI__IkpTRCqC",
        "colab": {
          "base_uri": "https://localhost:8080/"
        },
        "outputId": "8f899231-2dce-4bee-bd0c-9fa64e0559cf"
      },
      "outputs": [
        {
          "output_type": "execute_result",
          "data": {
            "text/plain": [
              "(0.001561132785821484, 0.9903808132116186)"
            ]
          },
          "metadata": {},
          "execution_count": 16
        }
      ],
      "source": [
        "x = np.random.random((10,10))    # 10-rows, 10-columns\n",
        "x.min(),x.max()"
      ]
    },
    {
      "cell_type": "markdown",
      "metadata": {
        "id": "KBfChrOFRCqC"
      },
      "source": [
        "#### 14. Create a random vector of size 30 and find the mean value (★☆☆) \n",
        "(**hint**: mean)"
      ]
    },
    {
      "cell_type": "code",
      "execution_count": null,
      "metadata": {
        "id": "QXNKsYeIRCqD",
        "colab": {
          "base_uri": "https://localhost:8080/"
        },
        "outputId": "85ddf199-97d0-4843-ae3e-030d401d39b1"
      },
      "outputs": [
        {
          "output_type": "execute_result",
          "data": {
            "text/plain": [
              "0.5357156303611315"
            ]
          },
          "metadata": {},
          "execution_count": 17
        }
      ],
      "source": [
        "x = np.random.random(30)    \n",
        "x.mean()"
      ]
    },
    {
      "cell_type": "markdown",
      "metadata": {
        "id": "zMePvw_2RCqD"
      },
      "source": [
        "#### 15. Create a 2d array with 1 on the border and 0 inside (★☆☆) \n",
        "(**hint**: array\\[1:-1, 1:-1\\])"
      ]
    },
    {
      "cell_type": "code",
      "execution_count": null,
      "metadata": {
        "id": "Wune9I0xRCqD",
        "colab": {
          "base_uri": "https://localhost:8080/"
        },
        "outputId": "7d46d4aa-b156-4854-9655-4738bd8da343"
      },
      "outputs": [
        {
          "output_type": "execute_result",
          "data": {
            "text/plain": [
              "array([[1, 1, 1, 1, 1],\n",
              "       [1, 0, 0, 0, 1],\n",
              "       [1, 0, 0, 0, 1],\n",
              "       [1, 0, 0, 0, 1],\n",
              "       [1, 1, 1, 1, 1]])"
            ]
          },
          "metadata": {},
          "execution_count": 18
        }
      ],
      "source": [
        "x = np.ones((5,5),dtype='int')\n",
        "x[1:-1,1:-1] = 0                #  1st & last row, 1st & last column : assigned 0\n",
        "x"
      ]
    },
    {
      "cell_type": "markdown",
      "metadata": {
        "id": "zjD9upBKRCqH"
      },
      "source": [
        "#### 16. How to add a border (filled with 0's) around an existing array? (★☆☆) \n",
        "(**hint**: np.pad)"
      ]
    },
    {
      "cell_type": "code",
      "execution_count": null,
      "metadata": {
        "id": "2IhRtA8dRCqH",
        "colab": {
          "base_uri": "https://localhost:8080/"
        },
        "outputId": "fb6b7818-9783-41d5-b060-be1fd8da74da"
      },
      "outputs": [
        {
          "output_type": "execute_result",
          "data": {
            "text/plain": [
              "array([[0, 8, 9, 8, 6],\n",
              "       [9, 4, 0, 8, 8],\n",
              "       [2, 2, 0, 9, 6],\n",
              "       [7, 2, 8, 1, 7],\n",
              "       [5, 4, 0, 0, 9]])"
            ]
          },
          "metadata": {},
          "execution_count": 19
        }
      ],
      "source": [
        "x = np.random.randint(10,size=(5,5))   # values upto 10\n",
        "x"
      ]
    },
    {
      "cell_type": "code",
      "source": [
        "padding = np.pad(x,pad_width=1)\n",
        "padding"
      ],
      "metadata": {
        "colab": {
          "base_uri": "https://localhost:8080/"
        },
        "id": "Vba7XqP980Fu",
        "outputId": "acb707a1-7dbd-42a6-ab4e-54e16b4bbacf"
      },
      "execution_count": null,
      "outputs": [
        {
          "output_type": "execute_result",
          "data": {
            "text/plain": [
              "array([[0, 0, 0, 0, 0, 0, 0],\n",
              "       [0, 0, 8, 9, 8, 6, 0],\n",
              "       [0, 9, 4, 0, 8, 8, 0],\n",
              "       [0, 2, 2, 0, 9, 6, 0],\n",
              "       [0, 7, 2, 8, 1, 7, 0],\n",
              "       [0, 5, 4, 0, 0, 9, 0],\n",
              "       [0, 0, 0, 0, 0, 0, 0]])"
            ]
          },
          "metadata": {},
          "execution_count": 20
        }
      ]
    },
    {
      "cell_type": "markdown",
      "metadata": {
        "id": "NjP_4vAtRCqI"
      },
      "source": [
        "#### 17. What is the result of the following expression? (★☆☆) \n",
        "(**hint**: NaN = not a number, inf = infinity)"
      ]
    },
    {
      "cell_type": "markdown",
      "metadata": {
        "id": "qwweYAQkRCqI"
      },
      "source": [
        "```python\n",
        "0 * np.nan\n",
        "np.nan == np.nan\n",
        "np.inf > np.nan\n",
        "np.nan - np.nan\n",
        "0.3 == 3 * 0.1\n",
        "```"
      ]
    },
    {
      "cell_type": "code",
      "execution_count": null,
      "metadata": {
        "id": "HxbvG4CBRCqI",
        "colab": {
          "base_uri": "https://localhost:8080/"
        },
        "outputId": "64944eae-00c5-40e1-9bc0-cdf44b6f8b6e"
      },
      "outputs": [
        {
          "output_type": "execute_result",
          "data": {
            "text/plain": [
              "nan"
            ]
          },
          "metadata": {},
          "execution_count": 21
        }
      ],
      "source": [
        "0 * np.nan"
      ]
    },
    {
      "cell_type": "code",
      "source": [
        "np.nan == np.nan"
      ],
      "metadata": {
        "colab": {
          "base_uri": "https://localhost:8080/"
        },
        "id": "0ZZMj7u99f_8",
        "outputId": "a0f33f68-1227-4db4-f793-123c6f1e604a"
      },
      "execution_count": null,
      "outputs": [
        {
          "output_type": "execute_result",
          "data": {
            "text/plain": [
              "False"
            ]
          },
          "metadata": {},
          "execution_count": 22
        }
      ]
    },
    {
      "cell_type": "code",
      "source": [
        "np.inf > np.nan"
      ],
      "metadata": {
        "colab": {
          "base_uri": "https://localhost:8080/"
        },
        "id": "_6_Prezr9f8W",
        "outputId": "d660803f-2838-4c07-aef9-2a6603c397dc"
      },
      "execution_count": null,
      "outputs": [
        {
          "output_type": "execute_result",
          "data": {
            "text/plain": [
              "False"
            ]
          },
          "metadata": {},
          "execution_count": 23
        }
      ]
    },
    {
      "cell_type": "code",
      "source": [
        "np.nan - np.nan"
      ],
      "metadata": {
        "colab": {
          "base_uri": "https://localhost:8080/"
        },
        "id": "Bt5UAYqD9f58",
        "outputId": "866b2b0e-d190-4289-c21e-73d0efa8a11d"
      },
      "execution_count": null,
      "outputs": [
        {
          "output_type": "execute_result",
          "data": {
            "text/plain": [
              "nan"
            ]
          },
          "metadata": {},
          "execution_count": 24
        }
      ]
    },
    {
      "cell_type": "code",
      "source": [
        "0.3 == 3 * 0.1"
      ],
      "metadata": {
        "colab": {
          "base_uri": "https://localhost:8080/"
        },
        "id": "u7m0MMdg9f3F",
        "outputId": "a3245a5c-4baf-4642-d058-82458b953fb5"
      },
      "execution_count": null,
      "outputs": [
        {
          "output_type": "execute_result",
          "data": {
            "text/plain": [
              "False"
            ]
          },
          "metadata": {},
          "execution_count": 25
        }
      ]
    },
    {
      "cell_type": "markdown",
      "metadata": {
        "id": "tQRZdyPwRCqI"
      },
      "source": [
        "#### 18. Create a 5x5 matrix with values 1,2,3,4 just below the diagonal (★☆☆) \n",
        "(**hint**: np.diag)"
      ]
    },
    {
      "cell_type": "code",
      "execution_count": null,
      "metadata": {
        "id": "5wHIJTy8RCqI",
        "colab": {
          "base_uri": "https://localhost:8080/"
        },
        "outputId": "6977263a-215d-41e3-f1a7-9aa5c852f5d1"
      },
      "outputs": [
        {
          "output_type": "execute_result",
          "data": {
            "text/plain": [
              "array([[1, 0, 0, 0],\n",
              "       [0, 2, 0, 0],\n",
              "       [0, 0, 3, 0],\n",
              "       [0, 0, 0, 4]])"
            ]
          },
          "metadata": {},
          "execution_count": 26
        }
      ],
      "source": [
        "x = np.diag(np.arange(1,5))\n",
        "x"
      ]
    },
    {
      "cell_type": "code",
      "source": [
        "x = np.diag(np.arange(1,5), k=-1)  #  k<0 means diagonal below main diagonal\n",
        "x"
      ],
      "metadata": {
        "colab": {
          "base_uri": "https://localhost:8080/"
        },
        "id": "Mlv7gIH6P1Ox",
        "outputId": "82d606fa-25ae-40ca-bd8c-21b35ae22353"
      },
      "execution_count": null,
      "outputs": [
        {
          "output_type": "execute_result",
          "data": {
            "text/plain": [
              "array([[0, 0, 0, 0, 0],\n",
              "       [1, 0, 0, 0, 0],\n",
              "       [0, 2, 0, 0, 0],\n",
              "       [0, 0, 3, 0, 0],\n",
              "       [0, 0, 0, 4, 0]])"
            ]
          },
          "metadata": {},
          "execution_count": 27
        }
      ]
    },
    {
      "cell_type": "markdown",
      "metadata": {
        "id": "olEUZ7c7RCqJ"
      },
      "source": [
        "#### 19. Create a 8x8 matrix and fill it with a checkerboard pattern (★☆☆) \n",
        "(**hint**: array\\[::2\\])"
      ]
    },
    {
      "cell_type": "code",
      "execution_count": null,
      "metadata": {
        "id": "7y36qPcuRCqJ",
        "colab": {
          "base_uri": "https://localhost:8080/"
        },
        "outputId": "1931714a-c16a-4ed3-f3d9-3cf0c1709f7e"
      },
      "outputs": [
        {
          "output_type": "execute_result",
          "data": {
            "text/plain": [
              "array([[0, 1, 0, 1, 0, 1, 0, 1],\n",
              "       [1, 0, 1, 0, 1, 0, 1, 0],\n",
              "       [0, 1, 0, 1, 0, 1, 0, 1],\n",
              "       [1, 0, 1, 0, 1, 0, 1, 0],\n",
              "       [0, 1, 0, 1, 0, 1, 0, 1],\n",
              "       [1, 0, 1, 0, 1, 0, 1, 0],\n",
              "       [0, 1, 0, 1, 0, 1, 0, 1],\n",
              "       [1, 0, 1, 0, 1, 0, 1, 0]])"
            ]
          },
          "metadata": {},
          "execution_count": 28
        }
      ],
      "source": [
        "x = np.ones((8,8),dtype='int')\n",
        "x[::2,::2]=0\n",
        "x[1::2,1::2]=0\n",
        "x"
      ]
    },
    {
      "cell_type": "markdown",
      "metadata": {
        "id": "hAud2pzpRCqJ"
      },
      "source": [
        "#### 20. Consider a (6,7,8) shape array, what is the index (x,y,z) of the 100th element? \n",
        "(**hint**: np.unravel_index)"
      ]
    },
    {
      "cell_type": "code",
      "execution_count": null,
      "metadata": {
        "id": "FJziNVGnRCqJ",
        "colab": {
          "base_uri": "https://localhost:8080/"
        },
        "outputId": "a329bb1e-e03a-4aad-9998-69e8df9f40f0"
      },
      "outputs": [
        {
          "output_type": "execute_result",
          "data": {
            "text/plain": [
              "(1, 5, 4)"
            ]
          },
          "metadata": {},
          "execution_count": 29
        }
      ],
      "source": [
        "x = np.unravel_index(100,(6,7,8))        # Converts an array of flat indices into a tuple of coordinate arrays.\n",
        "x                                  # coordinates of 100th element in tuple is given"
      ]
    },
    {
      "cell_type": "markdown",
      "metadata": {
        "id": "N0MwZaXaRCqJ"
      },
      "source": [
        "#### 21. Create a checkerboard 8x8 matrix using the tile function (★☆☆) \n",
        "(**hint**: np.tile)"
      ]
    },
    {
      "cell_type": "code",
      "source": [
        "arr = np.array([[0,1], [1,0]])     # 1st row is [0,1], 2nd row is [1,0]\n",
        "x = np.tile(arr,(4,4))         # it is repeated 4 times row-wise, 4-times column-wise\n",
        "x"
      ],
      "metadata": {
        "colab": {
          "base_uri": "https://localhost:8080/"
        },
        "id": "3k0RQLCQY_CS",
        "outputId": "8d76775c-e782-4e1a-8107-6767bd02c06a"
      },
      "execution_count": null,
      "outputs": [
        {
          "output_type": "execute_result",
          "data": {
            "text/plain": [
              "array([[0, 1, 0, 1, 0, 1, 0, 1],\n",
              "       [1, 0, 1, 0, 1, 0, 1, 0],\n",
              "       [0, 1, 0, 1, 0, 1, 0, 1],\n",
              "       [1, 0, 1, 0, 1, 0, 1, 0],\n",
              "       [0, 1, 0, 1, 0, 1, 0, 1],\n",
              "       [1, 0, 1, 0, 1, 0, 1, 0],\n",
              "       [0, 1, 0, 1, 0, 1, 0, 1],\n",
              "       [1, 0, 1, 0, 1, 0, 1, 0]])"
            ]
          },
          "metadata": {},
          "execution_count": 3
        }
      ]
    },
    {
      "cell_type": "markdown",
      "metadata": {
        "id": "whKj8KvaRCqK"
      },
      "source": [
        "#### 22. Normalize a 5x5 random matrix (★☆☆) \n",
        "(**hint**: (x - min) / (max - min))"
      ]
    },
    {
      "cell_type": "code",
      "execution_count": null,
      "metadata": {
        "id": "B--Wx9cqRCqK",
        "colab": {
          "base_uri": "https://localhost:8080/"
        },
        "outputId": "07abb996-b97e-4f85-dd6f-e71d87cf13d1"
      },
      "outputs": [
        {
          "output_type": "execute_result",
          "data": {
            "text/plain": [
              "array([[24, 19, 12, 24,  2],\n",
              "       [12,  6,  1, 18, 18],\n",
              "       [20,  4, 15,  1,  5],\n",
              "       [13, 22,  6, 18, 13],\n",
              "       [24, 12,  7,  4, 18]])"
            ]
          },
          "metadata": {},
          "execution_count": 31
        }
      ],
      "source": [
        "X = np.random.randint(25,size=(5,5))\n",
        "X"
      ]
    },
    {
      "cell_type": "code",
      "source": [
        "Xmax, Xmin = X.max(), X.min()\n",
        "X = (X-Xmin) / (Xmax-Xmin)         # normalization formula\n",
        "X"
      ],
      "metadata": {
        "colab": {
          "base_uri": "https://localhost:8080/"
        },
        "id": "5QrVppQOaIO-",
        "outputId": "5e12c071-9d91-443c-a4e0-49a5f46c3381"
      },
      "execution_count": null,
      "outputs": [
        {
          "output_type": "execute_result",
          "data": {
            "text/plain": [
              "array([[1.        , 0.7826087 , 0.47826087, 1.        , 0.04347826],\n",
              "       [0.47826087, 0.2173913 , 0.        , 0.73913043, 0.73913043],\n",
              "       [0.82608696, 0.13043478, 0.60869565, 0.        , 0.17391304],\n",
              "       [0.52173913, 0.91304348, 0.2173913 , 0.73913043, 0.52173913],\n",
              "       [1.        , 0.47826087, 0.26086957, 0.13043478, 0.73913043]])"
            ]
          },
          "metadata": {},
          "execution_count": 32
        }
      ]
    },
    {
      "cell_type": "markdown",
      "metadata": {
        "id": "yqvPkSMXRCqK"
      },
      "source": [
        "#### 23. Create a custom dtype that describes a color as four unsigned bytes (RGBA) (★☆☆) \n",
        "(**hint**: np.dtype)"
      ]
    },
    {
      "cell_type": "code",
      "execution_count": null,
      "metadata": {
        "collapsed": true,
        "id": "1KzWt6fARCqL",
        "colab": {
          "base_uri": "https://localhost:8080/"
        },
        "outputId": "9f13d952-3e07-40f1-b6f3-795d076b1cf3"
      },
      "outputs": [
        {
          "output_type": "execute_result",
          "data": {
            "text/plain": [
              "dtype([('r', 'u1'), ('g', 'u1'), ('b', 'u1'), ('a', 'u1')])"
            ]
          },
          "metadata": {},
          "execution_count": 33
        }
      ],
      "source": [
        "custom_dtype = np.dtype([              # ubyte : unsigned byte\n",
        "                  (\"r\", np.ubyte),\n",
        "                  (\"g\", np.ubyte),\n",
        "                  (\"b\", np.ubyte),\n",
        "                  (\"a\", np.ubyte)  ])\n",
        "custom_dtype"
      ]
    },
    {
      "cell_type": "markdown",
      "metadata": {
        "id": "dt4gY5YqRCqL"
      },
      "source": [
        "#### 24. Multiply a 5x3 matrix by a 3x2 matrix (real matrix product) (★☆☆) \n",
        "(**hint**: np.dot | @)"
      ]
    },
    {
      "cell_type": "code",
      "source": [
        "print(np.ones((5,3)))\n",
        "print(np.ones((3,2)))"
      ],
      "metadata": {
        "colab": {
          "base_uri": "https://localhost:8080/"
        },
        "id": "fwNvXWcdhfN_",
        "outputId": "10d4e570-11e9-4936-b36e-1fd10a21731c"
      },
      "execution_count": null,
      "outputs": [
        {
          "output_type": "stream",
          "name": "stdout",
          "text": [
            "[[1. 1. 1.]\n",
            " [1. 1. 1.]\n",
            " [1. 1. 1.]\n",
            " [1. 1. 1.]\n",
            " [1. 1. 1.]]\n",
            "[[1. 1.]\n",
            " [1. 1.]\n",
            " [1. 1.]]\n"
          ]
        }
      ]
    },
    {
      "cell_type": "code",
      "execution_count": null,
      "metadata": {
        "id": "tgh1q3OPRCqL",
        "colab": {
          "base_uri": "https://localhost:8080/"
        },
        "outputId": "a5635273-e56a-4268-c436-e1a08bdad4c4"
      },
      "outputs": [
        {
          "output_type": "execute_result",
          "data": {
            "text/plain": [
              "array([[3., 3.],\n",
              "       [3., 3.],\n",
              "       [3., 3.],\n",
              "       [3., 3.],\n",
              "       [3., 3.]])"
            ]
          },
          "metadata": {},
          "execution_count": 35
        }
      ],
      "source": [
        "x = np.dot(np.ones((5,3)), np.ones((3,2)))\n",
        "x"
      ]
    },
    {
      "cell_type": "markdown",
      "metadata": {
        "id": "MjnVerEnRCqM"
      },
      "source": [
        "#### 25. Given a 1D array, negate all elements which are between 3 and 8, in place. (★☆☆) \n",
        "(**hint**: >, <=)"
      ]
    },
    {
      "cell_type": "code",
      "execution_count": null,
      "metadata": {
        "id": "BDbJgo2jRCqM",
        "colab": {
          "base_uri": "https://localhost:8080/"
        },
        "outputId": "c7b25a86-97ff-4c58-c256-bc623fb2b390"
      },
      "outputs": [
        {
          "output_type": "execute_result",
          "data": {
            "text/plain": [
              "array([ 0,  1,  2,  3,  4,  5,  6,  7,  8,  9, 10, 11, 12, 13, 14, 15, 16,\n",
              "       17, 18, 19])"
            ]
          },
          "metadata": {},
          "execution_count": 36
        }
      ],
      "source": [
        "x = np.arange(20)\n",
        "x"
      ]
    },
    {
      "cell_type": "code",
      "source": [
        "x[(3<x) & (x<8)] = x[(3<x) & (x<8)] * -1\n",
        "x"
      ],
      "metadata": {
        "colab": {
          "base_uri": "https://localhost:8080/"
        },
        "id": "PUbDLtT0iadg",
        "outputId": "82907abf-1fc1-4ff5-a9f9-6db9d74b3d75"
      },
      "execution_count": null,
      "outputs": [
        {
          "output_type": "execute_result",
          "data": {
            "text/plain": [
              "array([ 0,  1,  2,  3, -4, -5, -6, -7,  8,  9, 10, 11, 12, 13, 14, 15, 16,\n",
              "       17, 18, 19])"
            ]
          },
          "metadata": {},
          "execution_count": 37
        }
      ]
    },
    {
      "cell_type": "markdown",
      "metadata": {
        "id": "a8kRaxQURCqM"
      },
      "source": [
        "#### 26. What is the output of the following script? (★☆☆) \n",
        "(**hint**: np.sum)"
      ]
    },
    {
      "cell_type": "markdown",
      "metadata": {
        "id": "vKAZ9bdfRCqN"
      },
      "source": [
        "```python\n",
        "# Author: Jake VanderPlas\n",
        "\n",
        "print(sum(range(5),-1))\n",
        "from numpy import *\n",
        "print(sum(range(5),-1))\n",
        "```"
      ]
    },
    {
      "cell_type": "markdown",
      "source": [
        "* axis : None or int or tuple of ints, optional Axis or axes along which a sum is performed.  The default, axis=None, will sum all of the elements of the input array.  \n",
        "* If axis is negative: it counts from the last to the first axis."
      ],
      "metadata": {
        "id": "bbqjOeZR7g7j"
      }
    },
    {
      "cell_type": "code",
      "execution_count": null,
      "metadata": {
        "id": "Ksx4JtfhRCqN",
        "colab": {
          "base_uri": "https://localhost:8080/"
        },
        "outputId": "c09c8d66-1c9f-4156-ba53-3c74f0fb39e9"
      },
      "outputs": [
        {
          "output_type": "execute_result",
          "data": {
            "text/plain": [
              "9"
            ]
          },
          "metadata": {},
          "execution_count": 4
        }
      ],
      "source": [
        "sum(range(5),-1) "
      ]
    },
    {
      "cell_type": "code",
      "source": [
        "from numpy import *\n",
        "sum(range(5),-1)"
      ],
      "metadata": {
        "colab": {
          "base_uri": "https://localhost:8080/"
        },
        "id": "0xmJHHCO23iu",
        "outputId": "72d24257-00e8-40e2-820b-f89b1e6094ad"
      },
      "execution_count": null,
      "outputs": [
        {
          "output_type": "execute_result",
          "data": {
            "text/plain": [
              "10"
            ]
          },
          "metadata": {},
          "execution_count": 5
        }
      ]
    },
    {
      "cell_type": "markdown",
      "metadata": {
        "id": "7CT3rnLaRCqN"
      },
      "source": [
        "#### 27. Consider an integer vector Z, which of these expressions are legal? (★☆☆)"
      ]
    },
    {
      "cell_type": "markdown",
      "metadata": {
        "id": "JRRagkijRCqN"
      },
      "source": [
        "```python\n",
        "Z**Z\n",
        "2 << Z >> 2\n",
        "Z <- Z\n",
        "1j*Z\n",
        "Z/1/1\n",
        "Z<Z>Z\n",
        "```"
      ]
    },
    {
      "cell_type": "code",
      "source": [
        "Z = 3"
      ],
      "metadata": {
        "id": "RSGtcP5p91_T"
      },
      "execution_count": null,
      "outputs": []
    },
    {
      "cell_type": "code",
      "execution_count": null,
      "metadata": {
        "id": "Q8hM4N5ZRCqO",
        "colab": {
          "base_uri": "https://localhost:8080/"
        },
        "outputId": "c7650ae8-bccd-4328-d686-a75c54048a74"
      },
      "outputs": [
        {
          "output_type": "execute_result",
          "data": {
            "text/plain": [
              "27"
            ]
          },
          "metadata": {},
          "execution_count": 41
        }
      ],
      "source": [
        "Z**Z     # ** means power"
      ]
    },
    {
      "cell_type": "markdown",
      "source": [
        "* Bitwise operators act on bits and perform the bit-by-bit operations. These are used to operate on binary numbers."
      ],
      "metadata": {
        "id": "KaH1TTNy_bxk"
      }
    },
    {
      "cell_type": "code",
      "source": [
        "2 << Z >> 2        # <<\tmeans Bitwise left shift    # >> means\tBitwise right shift"
      ],
      "metadata": {
        "colab": {
          "base_uri": "https://localhost:8080/"
        },
        "id": "qvs7FMql95dC",
        "outputId": "15c11430-0df6-422b-eb84-f3a6b0772855"
      },
      "execution_count": null,
      "outputs": [
        {
          "output_type": "execute_result",
          "data": {
            "text/plain": [
              "4"
            ]
          },
          "metadata": {},
          "execution_count": 42
        }
      ]
    },
    {
      "cell_type": "code",
      "source": [
        "Z <- Z         # Z < (Z-Z)"
      ],
      "metadata": {
        "colab": {
          "base_uri": "https://localhost:8080/"
        },
        "id": "pEAAdT0895Zp",
        "outputId": "367d53e9-848b-4b29-f940-90b32a67d9ac"
      },
      "execution_count": null,
      "outputs": [
        {
          "output_type": "execute_result",
          "data": {
            "text/plain": [
              "False"
            ]
          },
          "metadata": {},
          "execution_count": 43
        }
      ]
    },
    {
      "cell_type": "code",
      "source": [
        "1j * Z"
      ],
      "metadata": {
        "colab": {
          "base_uri": "https://localhost:8080/"
        },
        "id": "qqNlFeqK95XN",
        "outputId": "9c544ab6-5b42-417e-d814-bb71fe0c0971"
      },
      "execution_count": null,
      "outputs": [
        {
          "output_type": "execute_result",
          "data": {
            "text/plain": [
              "3j"
            ]
          },
          "metadata": {},
          "execution_count": 44
        }
      ]
    },
    {
      "cell_type": "code",
      "source": [
        "Z/1/1"
      ],
      "metadata": {
        "colab": {
          "base_uri": "https://localhost:8080/"
        },
        "id": "kI4fNoxm-Ijz",
        "outputId": "6bade624-92b0-48c7-e93c-89a85f31f752"
      },
      "execution_count": null,
      "outputs": [
        {
          "output_type": "execute_result",
          "data": {
            "text/plain": [
              "3.0"
            ]
          },
          "metadata": {},
          "execution_count": 45
        }
      ]
    },
    {
      "cell_type": "code",
      "source": [
        "Z<Z>Z"
      ],
      "metadata": {
        "colab": {
          "base_uri": "https://localhost:8080/"
        },
        "id": "YrW16Wk7-Iga",
        "outputId": "8a691a4c-4dd5-4955-c512-7034faae1b6e"
      },
      "execution_count": null,
      "outputs": [
        {
          "output_type": "execute_result",
          "data": {
            "text/plain": [
              "False"
            ]
          },
          "metadata": {},
          "execution_count": 46
        }
      ]
    },
    {
      "cell_type": "markdown",
      "metadata": {
        "id": "O7XpzwafRCqO"
      },
      "source": [
        "#### 28. What are the result of the following expressions?"
      ]
    },
    {
      "cell_type": "markdown",
      "metadata": {
        "id": "pf3-HqM6RCqO"
      },
      "source": [
        "```python\n",
        "np.array(0) / np.array(0)\n",
        "np.array(0) // np.array(0)\n",
        "np.array([np.nan]).astype(int).astype(float)\n",
        "```"
      ]
    },
    {
      "cell_type": "code",
      "source": [
        "np.array(0)"
      ],
      "metadata": {
        "colab": {
          "base_uri": "https://localhost:8080/"
        },
        "id": "W_SNgAu3AquM",
        "outputId": "40fbd186-96dc-4b05-9894-3abe95e323fa"
      },
      "execution_count": null,
      "outputs": [
        {
          "output_type": "execute_result",
          "data": {
            "text/plain": [
              "array(0)"
            ]
          },
          "metadata": {},
          "execution_count": 47
        }
      ]
    },
    {
      "cell_type": "code",
      "execution_count": null,
      "metadata": {
        "id": "IBB7n3F3RCqP",
        "colab": {
          "base_uri": "https://localhost:8080/"
        },
        "outputId": "a23fbfb5-cfb3-43ea-bf46-cd8e46095102"
      },
      "outputs": [
        {
          "output_type": "stream",
          "name": "stderr",
          "text": [
            "/usr/local/lib/python3.7/dist-packages/ipykernel_launcher.py:1: RuntimeWarning: invalid value encountered in true_divide\n",
            "  \"\"\"Entry point for launching an IPython kernel.\n"
          ]
        },
        {
          "output_type": "execute_result",
          "data": {
            "text/plain": [
              "nan"
            ]
          },
          "metadata": {},
          "execution_count": 48
        }
      ],
      "source": [
        "np.array(0) / np.array(0)       # / means Division (float): divides the first operand by the second"
      ]
    },
    {
      "cell_type": "code",
      "source": [
        "np.array(0) // np.array(0)     #  // means Division (floor): divides the first operand by the second"
      ],
      "metadata": {
        "colab": {
          "base_uri": "https://localhost:8080/"
        },
        "id": "I_FD0xUyAmQC",
        "outputId": "d68d2e70-f310-4579-9c29-446e521baa9b"
      },
      "execution_count": null,
      "outputs": [
        {
          "output_type": "stream",
          "name": "stderr",
          "text": [
            "/usr/local/lib/python3.7/dist-packages/ipykernel_launcher.py:1: RuntimeWarning: divide by zero encountered in floor_divide\n",
            "  \"\"\"Entry point for launching an IPython kernel.\n"
          ]
        },
        {
          "output_type": "execute_result",
          "data": {
            "text/plain": [
              "0"
            ]
          },
          "metadata": {},
          "execution_count": 49
        }
      ]
    },
    {
      "cell_type": "code",
      "source": [
        "np.array([np.nan]).astype(int).astype(float)"
      ],
      "metadata": {
        "colab": {
          "base_uri": "https://localhost:8080/"
        },
        "id": "IjIi_X1DAmDi",
        "outputId": "fd0d76fb-5ab1-45b2-d544-3fe68e4e69e0"
      },
      "execution_count": null,
      "outputs": [
        {
          "output_type": "execute_result",
          "data": {
            "text/plain": [
              "array([-9.22337204e+18])"
            ]
          },
          "metadata": {},
          "execution_count": 8
        }
      ]
    },
    {
      "cell_type": "markdown",
      "metadata": {
        "id": "jkjR7urARCqP"
      },
      "source": [
        "#### 29. How to round away from zero a float array ? (★☆☆) \n",
        "(**hint**: np.uniform, np.copysign, np.ceil, np.abs)"
      ]
    },
    {
      "cell_type": "code",
      "execution_count": null,
      "metadata": {
        "id": "PZZz8CoLRCqP",
        "colab": {
          "base_uri": "https://localhost:8080/"
        },
        "outputId": "9e49e9fd-f905-4b91-a05c-6fa76abafcca"
      },
      "outputs": [
        {
          "output_type": "execute_result",
          "data": {
            "text/plain": [
              "array([-8.28166842, -3.5424148 ,  5.70729455,  2.22922725,  4.98372811,\n",
              "        4.22934837,  0.93878817, -6.91666044, -8.20891643,  8.62828197])"
            ]
          },
          "metadata": {},
          "execution_count": 51
        }
      ],
      "source": [
        "x = np.random.uniform(-10,+10,10)\n",
        "x"
      ]
    },
    {
      "cell_type": "markdown",
      "source": [
        "* copysign - Change the sign of x1 to that of x2, element-wise\n",
        "* ceil - roundoff to upper limit\n",
        "* abs - Calculates the absolute value element-wise."
      ],
      "metadata": {
        "id": "HQHZSQuZDLLa"
      }
    },
    {
      "cell_type": "code",
      "source": [
        "np.copysign(np.ceil(np.abs(x)) , x)"
      ],
      "metadata": {
        "colab": {
          "base_uri": "https://localhost:8080/"
        },
        "id": "ceAoN4YFCKDg",
        "outputId": "6630cab0-b01f-4afa-b5e7-319f30d6c533"
      },
      "execution_count": null,
      "outputs": [
        {
          "output_type": "execute_result",
          "data": {
            "text/plain": [
              "array([-9., -4.,  6.,  3.,  5.,  5.,  1., -7., -9.,  9.])"
            ]
          },
          "metadata": {},
          "execution_count": 52
        }
      ]
    },
    {
      "cell_type": "markdown",
      "metadata": {
        "id": "_NuStMLdRCqP"
      },
      "source": [
        "#### 30. How to find common values between two arrays? (★☆☆) \n",
        "(**hint**: np.intersect1d)"
      ]
    },
    {
      "cell_type": "code",
      "execution_count": null,
      "metadata": {
        "id": "no3yotesRCqP",
        "colab": {
          "base_uri": "https://localhost:8080/"
        },
        "outputId": "257b729f-9acc-403a-99b6-927e987a1722"
      },
      "outputs": [
        {
          "output_type": "execute_result",
          "data": {
            "text/plain": [
              "array([0, 1, 4, 5])"
            ]
          },
          "metadata": {},
          "execution_count": 53
        }
      ],
      "source": [
        "x1 = np.random.randint(0,6,10)\n",
        "x2 = np.random.randint(0,8,10)\n",
        "\n",
        "np.intersect1d(x1,x2)"
      ]
    },
    {
      "cell_type": "markdown",
      "metadata": {
        "id": "v5XQgHUNRCqQ"
      },
      "source": [
        "#### 31. How to ignore all numpy warnings (not recommended)? (★☆☆) \n",
        "(**hint**: np.seterr, np.errstate)"
      ]
    },
    {
      "cell_type": "code",
      "source": [
        "old_settings = np.seterr(all='ignore')   # Set error handling to known state\n",
        "x = np.ones(1)/0\n",
        "np.seterr(**old_settings)  # reset to default"
      ],
      "metadata": {
        "colab": {
          "base_uri": "https://localhost:8080/"
        },
        "id": "ScdJeriIaG0-",
        "outputId": "1055ed9e-83d2-40ad-85ab-2647fec1d566"
      },
      "execution_count": null,
      "outputs": [
        {
          "output_type": "execute_result",
          "data": {
            "text/plain": [
              "{'divide': 'ignore', 'invalid': 'ignore', 'over': 'ignore', 'under': 'ignore'}"
            ]
          },
          "metadata": {},
          "execution_count": 54
        }
      ]
    },
    {
      "cell_type": "code",
      "source": [
        "with np.errstate(all=\"ignore\"):\n",
        "    np.arange(3) / 0"
      ],
      "metadata": {
        "id": "h3TwALI3aqYA"
      },
      "execution_count": null,
      "outputs": []
    },
    {
      "cell_type": "markdown",
      "metadata": {
        "id": "BCxfG1WJRCqQ"
      },
      "source": [
        "#### 32. Is the following expressions true? (★☆☆) \n",
        "(**hint**: imaginary number)"
      ]
    },
    {
      "cell_type": "markdown",
      "metadata": {
        "id": "5dFyJ88_RCqQ"
      },
      "source": [
        "```python\n",
        "np.sqrt(-1) == np.emath.sqrt(-1)\n",
        "```"
      ]
    },
    {
      "cell_type": "code",
      "source": [
        "np.emath.sqrt(-1), np.sqrt(-1) "
      ],
      "metadata": {
        "colab": {
          "base_uri": "https://localhost:8080/"
        },
        "id": "vtLwUm8NbGMZ",
        "outputId": "c32aaaa5-6f87-421e-b0fc-c90fe0d285c2"
      },
      "execution_count": null,
      "outputs": [
        {
          "output_type": "stream",
          "name": "stderr",
          "text": [
            "/usr/local/lib/python3.7/dist-packages/ipykernel_launcher.py:1: RuntimeWarning: invalid value encountered in sqrt\n",
            "  \"\"\"Entry point for launching an IPython kernel.\n"
          ]
        },
        {
          "output_type": "execute_result",
          "data": {
            "text/plain": [
              "(1j, nan)"
            ]
          },
          "metadata": {},
          "execution_count": 10
        }
      ]
    },
    {
      "cell_type": "code",
      "execution_count": null,
      "metadata": {
        "id": "-aDA8lN_RCqR",
        "colab": {
          "base_uri": "https://localhost:8080/"
        },
        "outputId": "9ef153f4-00fd-49f4-f068-f8dc4f2805d9"
      },
      "outputs": [
        {
          "output_type": "stream",
          "name": "stderr",
          "text": [
            "/usr/local/lib/python3.7/dist-packages/ipykernel_launcher.py:1: RuntimeWarning: invalid value encountered in sqrt\n",
            "  \"\"\"Entry point for launching an IPython kernel.\n"
          ]
        },
        {
          "output_type": "execute_result",
          "data": {
            "text/plain": [
              "False"
            ]
          },
          "metadata": {},
          "execution_count": 57
        }
      ],
      "source": [
        "np.sqrt(-1) == np.emath.sqrt(-1)"
      ]
    },
    {
      "cell_type": "markdown",
      "metadata": {
        "id": "T9gNQBb_RCqS"
      },
      "source": [
        "#### 33. How to get the dates of yesterday, today and tomorrow? (★☆☆) \n",
        "(**hint**: np.datetime64, np.timedelta64)"
      ]
    },
    {
      "cell_type": "code",
      "execution_count": null,
      "metadata": {
        "collapsed": true,
        "id": "8jXgB-jNRCqS",
        "colab": {
          "base_uri": "https://localhost:8080/"
        },
        "outputId": "fb965034-afd8-4438-9d9e-daf39d7b85ed"
      },
      "outputs": [
        {
          "output_type": "execute_result",
          "data": {
            "text/plain": [
              "numpy.datetime64('2022-02-19')"
            ]
          },
          "metadata": {},
          "execution_count": 58
        }
      ],
      "source": [
        "yesterday = np.datetime64('today') - np.timedelta64(1)\n",
        "yesterday"
      ]
    },
    {
      "cell_type": "code",
      "source": [
        "today     = np.datetime64('today')\n",
        "today"
      ],
      "metadata": {
        "colab": {
          "base_uri": "https://localhost:8080/"
        },
        "id": "mfKf9IbnbvtS",
        "outputId": "140464e6-115e-4d20-e606-0ffcf3f758df"
      },
      "execution_count": null,
      "outputs": [
        {
          "output_type": "execute_result",
          "data": {
            "text/plain": [
              "numpy.datetime64('2022-02-20')"
            ]
          },
          "metadata": {},
          "execution_count": 59
        }
      ]
    },
    {
      "cell_type": "code",
      "source": [
        "tomorrow  = np.datetime64('today') + np.timedelta64(1)\n",
        "tomorrow"
      ],
      "metadata": {
        "colab": {
          "base_uri": "https://localhost:8080/"
        },
        "id": "UljYQPDobxd6",
        "outputId": "632c89d2-e0aa-419f-e475-2cfb7560a46f"
      },
      "execution_count": null,
      "outputs": [
        {
          "output_type": "execute_result",
          "data": {
            "text/plain": [
              "numpy.datetime64('2022-02-21')"
            ]
          },
          "metadata": {},
          "execution_count": 60
        }
      ]
    },
    {
      "cell_type": "markdown",
      "metadata": {
        "id": "c07QRGSRRCqS"
      },
      "source": [
        "#### 34. How to get all the dates corresponding to the month of July 2016? (★★☆) \n",
        "(**hint**: np.arange(dtype=datetime64\\['D'\\]))"
      ]
    },
    {
      "cell_type": "code",
      "execution_count": null,
      "metadata": {
        "id": "JiPDy_lVRCqT",
        "colab": {
          "base_uri": "https://localhost:8080/"
        },
        "outputId": "d4a1b785-7e8b-45c9-eb91-094a699298dc"
      },
      "outputs": [
        {
          "output_type": "stream",
          "name": "stdout",
          "text": [
            "['2016-07-01' '2016-07-02' '2016-07-03' '2016-07-04' '2016-07-05'\n",
            " '2016-07-06' '2016-07-07' '2016-07-08' '2016-07-09' '2016-07-10'\n",
            " '2016-07-11' '2016-07-12' '2016-07-13' '2016-07-14' '2016-07-15'\n",
            " '2016-07-16' '2016-07-17' '2016-07-18' '2016-07-19' '2016-07-20'\n",
            " '2016-07-21' '2016-07-22' '2016-07-23' '2016-07-24' '2016-07-25'\n",
            " '2016-07-26' '2016-07-27' '2016-07-28' '2016-07-29' '2016-07-30'\n",
            " '2016-07-31']\n"
          ]
        }
      ],
      "source": [
        "x = np.arange('2016-07-01', '2016-08-01', dtype='datetime64[D]')    # D means Days   # start,end,step\n",
        "print(x)"
      ]
    },
    {
      "cell_type": "markdown",
      "metadata": {
        "id": "uc1GGLQVRCqT"
      },
      "source": [
        "#### 35. How to compute ((A+B)\\*(-A/2)) in place (without copy)? (★★☆) \n",
        "(**hint**: np.add(out=), np.negative(out=), np.multiply(out=), np.divide(out=))"
      ]
    },
    {
      "cell_type": "code",
      "execution_count": null,
      "metadata": {
        "id": "JGxjfHhfRCqT",
        "colab": {
          "base_uri": "https://localhost:8080/"
        },
        "outputId": "b771db7b-facc-44b8-eabf-854c8af68843"
      },
      "outputs": [
        {
          "output_type": "stream",
          "name": "stdout",
          "text": [
            "[2. 2. 2. 2. 2.]\n",
            "[3. 3. 3. 3. 3.]\n"
          ]
        }
      ],
      "source": [
        "x = np.ones(5)*2\n",
        "y = np.ones(5)*3\n",
        "print(x)\n",
        "print(y)"
      ]
    },
    {
      "cell_type": "code",
      "source": [
        "np.add(x,y,out=y)    # (A+B)     # out : A location into which the result is stored."
      ],
      "metadata": {
        "colab": {
          "base_uri": "https://localhost:8080/"
        },
        "id": "JRsv8JxyjhN3",
        "outputId": "e6bfc0e9-3eab-405c-a1ce-ce3ce05b5292"
      },
      "execution_count": null,
      "outputs": [
        {
          "output_type": "execute_result",
          "data": {
            "text/plain": [
              "array([5., 5., 5., 5., 5.])"
            ]
          },
          "metadata": {},
          "execution_count": 63
        }
      ]
    },
    {
      "cell_type": "code",
      "source": [
        "np.divide(x,2,out=x)      # (A/2)"
      ],
      "metadata": {
        "colab": {
          "base_uri": "https://localhost:8080/"
        },
        "id": "B1hxtga5jhKe",
        "outputId": "eb21b842-5a90-4aa8-ee89-f9289e706078"
      },
      "execution_count": null,
      "outputs": [
        {
          "output_type": "execute_result",
          "data": {
            "text/plain": [
              "array([1., 1., 1., 1., 1.])"
            ]
          },
          "metadata": {},
          "execution_count": 64
        }
      ]
    },
    {
      "cell_type": "code",
      "source": [
        "np.negative(x,out=x)      # (-A/2)"
      ],
      "metadata": {
        "colab": {
          "base_uri": "https://localhost:8080/"
        },
        "id": "-cBk4bpzjhHj",
        "outputId": "20a95cf5-ff4d-4a54-e8e8-24417595dcb1"
      },
      "execution_count": null,
      "outputs": [
        {
          "output_type": "execute_result",
          "data": {
            "text/plain": [
              "array([-1., -1., -1., -1., -1.])"
            ]
          },
          "metadata": {},
          "execution_count": 65
        }
      ]
    },
    {
      "cell_type": "code",
      "source": [
        "np.multiply(x,y)      # (A+B)*(-A/2)"
      ],
      "metadata": {
        "colab": {
          "base_uri": "https://localhost:8080/"
        },
        "id": "GAzonf5ujhE1",
        "outputId": "2ffbdf46-bdae-4fef-bc5f-da472ecbe566"
      },
      "execution_count": null,
      "outputs": [
        {
          "output_type": "execute_result",
          "data": {
            "text/plain": [
              "array([-5., -5., -5., -5., -5.])"
            ]
          },
          "metadata": {},
          "execution_count": 66
        }
      ]
    },
    {
      "cell_type": "markdown",
      "metadata": {
        "id": "zLsjW1_KRCqT"
      },
      "source": [
        "#### 36. Extract the integer part of a random array using 5 different methods (★★☆) \n",
        "(**hint**: %, np.floor, np.ceil, astype, np.trunc)"
      ]
    },
    {
      "cell_type": "code",
      "execution_count": null,
      "metadata": {
        "id": "uhf0gzu2RCqT",
        "colab": {
          "base_uri": "https://localhost:8080/"
        },
        "outputId": "1cd70485-1bb4-4c3e-fd9e-7122945978f5"
      },
      "outputs": [
        {
          "output_type": "execute_result",
          "data": {
            "text/plain": [
              "array([9.93353016, 1.98008508, 2.41597217, 9.36881345, 1.50581195,\n",
              "       1.04461302, 5.2761145 , 8.70782046, 4.59785076, 4.93615752])"
            ]
          },
          "metadata": {},
          "execution_count": 67
        }
      ],
      "source": [
        "x = np.random.uniform(0,10,10)\n",
        "x"
      ]
    },
    {
      "cell_type": "code",
      "source": [
        "x - x % 2 "
      ],
      "metadata": {
        "colab": {
          "base_uri": "https://localhost:8080/"
        },
        "id": "rOeWjTI1lhIH",
        "outputId": "2550c08b-0bc0-485a-e5dd-6db2c60427b8"
      },
      "execution_count": null,
      "outputs": [
        {
          "output_type": "execute_result",
          "data": {
            "text/plain": [
              "array([8., 0., 2., 8., 0., 0., 4., 8., 4., 4.])"
            ]
          },
          "metadata": {},
          "execution_count": 68
        }
      ]
    },
    {
      "cell_type": "code",
      "source": [
        "np.floor(x)"
      ],
      "metadata": {
        "colab": {
          "base_uri": "https://localhost:8080/"
        },
        "id": "D00L3lJGlhCX",
        "outputId": "e70203bc-8efe-41f1-c1c8-20f8cb2d9639"
      },
      "execution_count": null,
      "outputs": [
        {
          "output_type": "execute_result",
          "data": {
            "text/plain": [
              "array([9., 1., 2., 9., 1., 1., 5., 8., 4., 4.])"
            ]
          },
          "metadata": {},
          "execution_count": 69
        }
      ]
    },
    {
      "cell_type": "code",
      "source": [
        "np.ceil(x)"
      ],
      "metadata": {
        "colab": {
          "base_uri": "https://localhost:8080/"
        },
        "id": "wUGwxmcHnA6k",
        "outputId": "15b33331-ae60-460e-e1f0-b64f5ab33088"
      },
      "execution_count": null,
      "outputs": [
        {
          "output_type": "execute_result",
          "data": {
            "text/plain": [
              "array([10.,  2.,  3., 10.,  2.,  2.,  6.,  9.,  5.,  5.])"
            ]
          },
          "metadata": {},
          "execution_count": 70
        }
      ]
    },
    {
      "cell_type": "code",
      "source": [
        "x.astype(int)"
      ],
      "metadata": {
        "colab": {
          "base_uri": "https://localhost:8080/"
        },
        "id": "C1LXRm_0lg_h",
        "outputId": "cf812b2d-1dd2-4008-d2c0-c487bdfd2ba7"
      },
      "execution_count": null,
      "outputs": [
        {
          "output_type": "execute_result",
          "data": {
            "text/plain": [
              "array([9, 1, 2, 9, 1, 1, 5, 8, 4, 4])"
            ]
          },
          "metadata": {},
          "execution_count": 71
        }
      ]
    },
    {
      "cell_type": "code",
      "source": [
        "np.trunc(x)        #  nearest integer  which is closer to zero"
      ],
      "metadata": {
        "colab": {
          "base_uri": "https://localhost:8080/"
        },
        "id": "MIklBpAElg19",
        "outputId": "34030ce4-ee4c-4791-b555-fc5d78e254cd"
      },
      "execution_count": null,
      "outputs": [
        {
          "output_type": "execute_result",
          "data": {
            "text/plain": [
              "array([9., 1., 2., 9., 1., 1., 5., 8., 4., 4.])"
            ]
          },
          "metadata": {},
          "execution_count": 72
        }
      ]
    },
    {
      "cell_type": "markdown",
      "metadata": {
        "id": "bwm--vE1RCqT"
      },
      "source": [
        "#### 37. Create a 5x5 matrix with row values ranging from 0 to 4 (★★☆) \n",
        "(**hint**: np.arange)"
      ]
    },
    {
      "cell_type": "code",
      "execution_count": null,
      "metadata": {
        "id": "ooPZVK7ERCqT",
        "colab": {
          "base_uri": "https://localhost:8080/"
        },
        "outputId": "7cad14f2-f01a-4aae-cf7a-73b6454da06f"
      },
      "outputs": [
        {
          "output_type": "execute_result",
          "data": {
            "text/plain": [
              "array([[0., 0., 0., 0., 0.],\n",
              "       [0., 0., 0., 0., 0.],\n",
              "       [0., 0., 0., 0., 0.],\n",
              "       [0., 0., 0., 0., 0.],\n",
              "       [0., 0., 0., 0., 0.]])"
            ]
          },
          "metadata": {},
          "execution_count": 73
        }
      ],
      "source": [
        "x = np.zeros((5,5))\n",
        "x"
      ]
    },
    {
      "cell_type": "code",
      "source": [
        "x = x + np.arange(5)\n",
        "x"
      ],
      "metadata": {
        "colab": {
          "base_uri": "https://localhost:8080/"
        },
        "id": "B8pL35o8oRiL",
        "outputId": "17b92ec6-87ac-4e5c-ba08-a599a6e119e0"
      },
      "execution_count": null,
      "outputs": [
        {
          "output_type": "execute_result",
          "data": {
            "text/plain": [
              "array([[0., 1., 2., 3., 4.],\n",
              "       [0., 1., 2., 3., 4.],\n",
              "       [0., 1., 2., 3., 4.],\n",
              "       [0., 1., 2., 3., 4.],\n",
              "       [0., 1., 2., 3., 4.]])"
            ]
          },
          "metadata": {},
          "execution_count": 74
        }
      ]
    },
    {
      "cell_type": "markdown",
      "metadata": {
        "id": "QiaMrTDURCqT"
      },
      "source": [
        "#### 38. Consider a generator function that generates 10 integers and use it to build an array (★☆☆) \n",
        "(**hint**: np.fromiter)"
      ]
    },
    {
      "cell_type": "markdown",
      "source": [
        "numpy.fromiter(iter, dtype, count= -1)\n",
        "  * iter = iterable object\n",
        "  * count = The number of items to read from iterable. The default is -1, which means all data is read."
      ],
      "metadata": {
        "id": "JwuCywSKp-TB"
      }
    },
    {
      "cell_type": "code",
      "execution_count": null,
      "metadata": {
        "id": "pHoQCUrMRCqT",
        "colab": {
          "base_uri": "https://localhost:8080/"
        },
        "outputId": "39bfb2f7-4ca9-4e3a-eb2f-e75d3c5f41f6"
      },
      "outputs": [
        {
          "output_type": "execute_result",
          "data": {
            "text/plain": [
              "array([0, 1, 2, 3, 4, 5, 6, 7, 8, 9])"
            ]
          },
          "metadata": {},
          "execution_count": 75
        }
      ],
      "source": [
        "def generate():\n",
        "    for i in range(10):\n",
        "        yield i\n",
        "x = np.fromiter(generate(),dtype=int,count=-1)\n",
        "x"
      ]
    },
    {
      "cell_type": "markdown",
      "metadata": {
        "id": "8q49ecasRCqU"
      },
      "source": [
        "#### 39. Create a vector of size 10 with values ranging from 0 to 1, both excluded (★★☆) \n",
        "(**hint**: np.linspace)"
      ]
    },
    {
      "cell_type": "markdown",
      "source": [
        "linspace - Returns evenly spaced numbers over a specified interval.\n",
        "  * linspace(start, stop, num=10, endpoint=True)\n",
        "  * num : Number of samples to generate\n",
        "  * endpoint : If True, stop is the last sample. Otherwise, it is not included."
      ],
      "metadata": {
        "id": "CRMvrK2DrVMZ"
      }
    },
    {
      "cell_type": "code",
      "execution_count": null,
      "metadata": {
        "id": "Vs6SFSFmRCqU",
        "colab": {
          "base_uri": "https://localhost:8080/"
        },
        "outputId": "3a93ddaa-2911-4d93-f0d2-e748adae5a67"
      },
      "outputs": [
        {
          "output_type": "execute_result",
          "data": {
            "text/plain": [
              "array([0. , 0.1, 0.2, 0.3, 0.4, 0.5, 0.6, 0.7, 0.8, 0.9])"
            ]
          },
          "metadata": {},
          "execution_count": 76
        }
      ],
      "source": [
        "x = np.linspace(0,1,10,endpoint=False)          \n",
        "x"
      ]
    },
    {
      "cell_type": "markdown",
      "metadata": {
        "id": "KosuDtU8RCqU"
      },
      "source": [
        "#### 40. Create a random vector of size 10 and sort it (★★☆) \n",
        "(**hint**: sort)"
      ]
    },
    {
      "cell_type": "code",
      "execution_count": null,
      "metadata": {
        "id": "37SwGzUiRCqU",
        "colab": {
          "base_uri": "https://localhost:8080/"
        },
        "outputId": "e4fad379-7503-4ad5-e89c-12a694b30bbb"
      },
      "outputs": [
        {
          "output_type": "execute_result",
          "data": {
            "text/plain": [
              "array([6, 9, 1, 7, 9, 7, 6, 7, 4, 5])"
            ]
          },
          "metadata": {},
          "execution_count": 77
        }
      ],
      "source": [
        "x = np.random.randint(10,size=10)\n",
        "x"
      ]
    },
    {
      "cell_type": "code",
      "source": [
        "x.sort()\n",
        "x"
      ],
      "metadata": {
        "colab": {
          "base_uri": "https://localhost:8080/"
        },
        "id": "2u4eSDCUsBAx",
        "outputId": "e72bcda9-c8cd-4527-a256-8615f9234b1c"
      },
      "execution_count": null,
      "outputs": [
        {
          "output_type": "execute_result",
          "data": {
            "text/plain": [
              "array([1, 4, 5, 6, 6, 7, 7, 7, 9, 9])"
            ]
          },
          "metadata": {},
          "execution_count": 78
        }
      ]
    },
    {
      "cell_type": "markdown",
      "metadata": {
        "id": "I5chHg3_RCqU"
      },
      "source": [
        "#### 41. How to sum a small array faster than np.sum? (★★☆) \n",
        "(**hint**: np.add.reduce)"
      ]
    },
    {
      "cell_type": "code",
      "execution_count": null,
      "metadata": {
        "id": "eEWUjMHERCqU",
        "colab": {
          "base_uri": "https://localhost:8080/"
        },
        "outputId": "eaf779fe-cf27-483f-f1d4-1bbb30673680"
      },
      "outputs": [
        {
          "output_type": "execute_result",
          "data": {
            "text/plain": [
              "15"
            ]
          },
          "metadata": {},
          "execution_count": 79
        }
      ],
      "source": [
        "x = np.arange(6)\n",
        "np.add.reduce(x)"
      ]
    },
    {
      "cell_type": "markdown",
      "metadata": {
        "id": "W6EjudM_RCqU"
      },
      "source": [
        "#### 42. Consider two random array A and B, check if they are equal (★★☆) \n",
        "(**hint**: np.allclose, np.array\\_equal)"
      ]
    },
    {
      "cell_type": "code",
      "execution_count": null,
      "metadata": {
        "id": "UZjz1_kzRCqU",
        "colab": {
          "base_uri": "https://localhost:8080/"
        },
        "outputId": "deaa5d28-95bf-4654-df0f-2fed736d2021"
      },
      "outputs": [
        {
          "output_type": "stream",
          "name": "stdout",
          "text": [
            "[4 4 4 4 4 4 4 2 0 4]\n",
            "[2 4 4 0 3 2 2 0 2 0]\n"
          ]
        }
      ],
      "source": [
        "A = np.random.randint(0,5,10)\n",
        "B = np.random.randint(0,5,10)\n",
        "print(A)\n",
        "print(B)"
      ]
    },
    {
      "cell_type": "code",
      "source": [
        "check_equal = np.allclose(A,B)     # Returns True if two arrays are element-wise equal within a tolerance.\n",
        "check_equal"
      ],
      "metadata": {
        "colab": {
          "base_uri": "https://localhost:8080/"
        },
        "id": "Weiptyz585kN",
        "outputId": "8ebe372c-41ba-4fd2-92fa-d341baa10a6c"
      },
      "execution_count": null,
      "outputs": [
        {
          "output_type": "execute_result",
          "data": {
            "text/plain": [
              "False"
            ]
          },
          "metadata": {},
          "execution_count": 81
        }
      ]
    },
    {
      "cell_type": "code",
      "source": [
        "check_equal = np.array_equal(A,B)   # True if two arrays have the same shape and elements\n",
        "check_equal"
      ],
      "metadata": {
        "colab": {
          "base_uri": "https://localhost:8080/"
        },
        "id": "kkuvQu_89MiW",
        "outputId": "83c317e1-fa94-41b8-b00f-ecb352167b3a"
      },
      "execution_count": null,
      "outputs": [
        {
          "output_type": "execute_result",
          "data": {
            "text/plain": [
              "False"
            ]
          },
          "metadata": {},
          "execution_count": 82
        }
      ]
    },
    {
      "cell_type": "markdown",
      "metadata": {
        "id": "41CWhHVZRCqU"
      },
      "source": [
        "#### 43. Make an array immutable (read-only) (★★☆) \n",
        "(**hint**: flags.writeable)"
      ]
    },
    {
      "cell_type": "code",
      "execution_count": null,
      "metadata": {
        "id": "6wLnaMlxRCqV"
      },
      "outputs": [],
      "source": [
        "x = np.ones(10)\n",
        "x.flags.writeable = False"
      ]
    },
    {
      "cell_type": "markdown",
      "metadata": {
        "id": "u76diuMsRCqV"
      },
      "source": [
        "#### 44. Consider a random 10x2 matrix representing cartesian coordinates, convert them to polar coordinates (★★☆) \n",
        "(**hint**: np.sqrt, np.arctan2)"
      ]
    },
    {
      "cell_type": "markdown",
      "source": [
        "* Cartesian coordinate : using x-axis, y-axis.\n",
        "* Polar coordinate : a pair of coordinates locating the position of a point in a plane, \n",
        "  - the first being the length of the straight line ( r ) connecting the point to the origin, \n",
        "  - and the second the angle ( θ ) made by this line with a fixed line."
      ],
      "metadata": {
        "id": "AYItFiAz2PF2"
      }
    },
    {
      "cell_type": "code",
      "execution_count": null,
      "metadata": {
        "id": "IiFQiuaLRCqV",
        "colab": {
          "base_uri": "https://localhost:8080/"
        },
        "outputId": "1f6f6f2f-ad98-4508-d017-69b0dd871f6b"
      },
      "outputs": [
        {
          "output_type": "execute_result",
          "data": {
            "text/plain": [
              "array([[0.20492079, 0.7891533 ],\n",
              "       [0.93309791, 0.71960324],\n",
              "       [0.79911179, 0.68285422],\n",
              "       [0.68779228, 0.35094585],\n",
              "       [0.01189728, 0.0092015 ],\n",
              "       [0.24110357, 0.0800646 ],\n",
              "       [0.97247585, 0.39980227],\n",
              "       [0.14260059, 0.11403646],\n",
              "       [0.3125595 , 0.5578828 ],\n",
              "       [0.62462942, 0.92212365]])"
            ]
          },
          "metadata": {},
          "execution_count": 11
        }
      ],
      "source": [
        "x = np.random.random((10,2))\n",
        "x"
      ]
    },
    {
      "cell_type": "code",
      "source": [
        "X,Y = x[:,0], x[:,1]     # creating cartesian coordinate"
      ],
      "metadata": {
        "id": "8xAd5Gw1-wTO"
      },
      "execution_count": null,
      "outputs": []
    },
    {
      "cell_type": "code",
      "source": [
        "R = np.sqrt(X**2+Y**2)          \n",
        "T = np.arctan2(Y,X)       #  To convert from Cartesian coordinates to polar coordinates\n",
        "\n",
        "T"
      ],
      "metadata": {
        "id": "i3W_o3rF-8Kz",
        "colab": {
          "base_uri": "https://localhost:8080/"
        },
        "outputId": "c9b47e2f-951b-44f8-8451-8da3381a61a8"
      },
      "execution_count": null,
      "outputs": [
        {
          "output_type": "execute_result",
          "data": {
            "text/plain": [
              "array([1.31673579, 0.65693037, 0.7071103 , 0.47181376, 0.65831699,\n",
              "       0.32061812, 0.39005392, 0.67455274, 1.06010998, 0.97541247])"
            ]
          },
          "metadata": {},
          "execution_count": 13
        }
      ]
    },
    {
      "cell_type": "markdown",
      "metadata": {
        "id": "dh45QvIERCqV"
      },
      "source": [
        "#### 45. Create random vector of size 10 and replace the maximum value by 0 (★★☆) \n",
        "(**hint**: argmax)"
      ]
    },
    {
      "cell_type": "code",
      "execution_count": null,
      "metadata": {
        "id": "SnSaQTN0RCqV",
        "colab": {
          "base_uri": "https://localhost:8080/"
        },
        "outputId": "4782ad72-afad-4d21-9603-0050e479d1dc"
      },
      "outputs": [
        {
          "output_type": "execute_result",
          "data": {
            "text/plain": [
              "array([5, 0, 9, 4, 6, 4, 6, 6, 2, 5])"
            ]
          },
          "metadata": {},
          "execution_count": 88
        }
      ],
      "source": [
        "x = np.random.randint(10,size=10)\n",
        "x"
      ]
    },
    {
      "cell_type": "code",
      "source": [
        "x[x.argmax()] = 0        # the argmax function returns the \"index\" of the maximum value of a Numpy array.\n",
        "x"
      ],
      "metadata": {
        "colab": {
          "base_uri": "https://localhost:8080/"
        },
        "id": "nc94s8ZJAFti",
        "outputId": "08e1fa27-e839-442a-f999-1f298d4a8552"
      },
      "execution_count": null,
      "outputs": [
        {
          "output_type": "execute_result",
          "data": {
            "text/plain": [
              "array([5, 0, 0, 4, 6, 4, 6, 6, 2, 5])"
            ]
          },
          "metadata": {},
          "execution_count": 89
        }
      ]
    },
    {
      "cell_type": "markdown",
      "metadata": {
        "id": "laygLpmQRCqV"
      },
      "source": [
        "#### 46. Create a structured array with `x` and `y` coordinates covering the \\[0,1\\]x\\[0,1\\] area (★★☆) \n",
        "(**hint**: np.meshgrid)"
      ]
    },
    {
      "cell_type": "markdown",
      "source": [
        "* meshgrid is a function that creates a rectangular grid out of 2 given 1-dimensional arrays that denotes the Matrix or Cartesian indexing"
      ],
      "metadata": {
        "id": "WbfORgww30gW"
      }
    },
    {
      "cell_type": "code",
      "execution_count": null,
      "metadata": {
        "id": "k_5HtvrDRCqV",
        "colab": {
          "base_uri": "https://localhost:8080/"
        },
        "outputId": "b5f63a16-553b-4dd9-9fb3-e886b5f5063a"
      },
      "outputs": [
        {
          "output_type": "stream",
          "name": "stdout",
          "text": [
            "[[(0. , 0. ) (0.5, 0. ) (1. , 0. )]\n",
            " [(0. , 0.5) (0.5, 0.5) (1. , 0.5)]\n",
            " [(0. , 1. ) (0.5, 1. ) (1. , 1. )]]\n"
          ]
        }
      ],
      "source": [
        "Z = np.zeros((3,3), [('x',float),('y',float)])\n",
        "Z['x'], Z['y'] = np.meshgrid(np.linspace(0,1,3), np.linspace(0,1,3))\n",
        "print(Z)"
      ]
    },
    {
      "cell_type": "markdown",
      "metadata": {
        "id": "-DiToNeORCqV"
      },
      "source": [
        "####  47. Given two arrays, X and Y, construct the Cauchy matrix C (Cij =1/(xi - yj)) \n",
        "(**hint**: np.subtract.outer)"
      ]
    },
    {
      "cell_type": "code",
      "execution_count": null,
      "metadata": {
        "id": "xnmISbDMRCqW",
        "colab": {
          "base_uri": "https://localhost:8080/"
        },
        "outputId": "2597a8f7-9911-4ec3-ed32-e106af611eed"
      },
      "outputs": [
        {
          "output_type": "stream",
          "name": "stdout",
          "text": [
            "3638.163637117973\n"
          ]
        }
      ],
      "source": [
        "X = np.arange(8)\n",
        "Y = X + 0.5\n",
        "\n",
        "C = 1.0 / np.subtract.outer(X, Y)     # Cauchy matrix\n",
        "print(np.linalg.det(C))           # Compute the determinant of an array. # The determinant of a 2-D array [[a, b], [c, d]] is ad - bc"
      ]
    },
    {
      "cell_type": "markdown",
      "metadata": {
        "id": "7LBz1TgeRCqW"
      },
      "source": [
        "#### 48. Print the minimum and maximum representable value for each numpy scalar type (★★☆) \n",
        "(**hint**: np.iinfo, np.finfo, eps)"
      ]
    },
    {
      "cell_type": "code",
      "execution_count": null,
      "metadata": {
        "id": "-bKyOBLCRCqW",
        "colab": {
          "base_uri": "https://localhost:8080/"
        },
        "outputId": "7e69b2da-5e6c-4e39-efda-1481cf6da2f6"
      },
      "outputs": [
        {
          "output_type": "stream",
          "name": "stdout",
          "text": [
            "min : -128\n",
            "max : 127\n",
            "min : -2147483648\n",
            "max : 2147483647\n",
            "min : -9223372036854775808\n",
            "max : 9223372036854775807\n"
          ]
        }
      ],
      "source": [
        "#  scalar data structure is the most basic data type that holds only a single atomic value at a time.\n",
        "\n",
        "for dtype in [np.int8, np.int32, np.int64]:\n",
        "   print('min :',np.iinfo(dtype).min)\n",
        "   print('max :',np.iinfo(dtype).max)"
      ]
    },
    {
      "cell_type": "code",
      "source": [
        "for dtype in [np.float32, np.float64]:\n",
        "   print('min :',np.finfo(dtype).min)\n",
        "   print('max :',np.finfo(dtype).max)\n",
        "   print('eps :',np.finfo(dtype).eps)   # eps : The difference between 1.0 and the next smallest representable float larger than 1.0"
      ],
      "metadata": {
        "colab": {
          "base_uri": "https://localhost:8080/"
        },
        "id": "hDUTIAtZUXh2",
        "outputId": "339d2fd2-6922-418c-c8b3-ce3973603fd2"
      },
      "execution_count": null,
      "outputs": [
        {
          "output_type": "stream",
          "name": "stdout",
          "text": [
            "min : -3.4028235e+38\n",
            "max : 3.4028235e+38\n",
            "eps : 1.1920929e-07\n",
            "min : -1.7976931348623157e+308\n",
            "max : 1.7976931348623157e+308\n",
            "eps : 2.220446049250313e-16\n"
          ]
        }
      ]
    },
    {
      "cell_type": "markdown",
      "metadata": {
        "id": "e_uMbZvPRCqW"
      },
      "source": [
        "#### 49. How to print all the values of an array? (★★☆) \n",
        "(**hint**: np.set\\_printoptions)"
      ]
    },
    {
      "cell_type": "code",
      "execution_count": null,
      "metadata": {
        "id": "k3PHnigfRCqW",
        "colab": {
          "base_uri": "https://localhost:8080/"
        },
        "outputId": "0493baee-066d-4ffe-9b00-aa08ee5a2425"
      },
      "outputs": [
        {
          "output_type": "stream",
          "name": "stdout",
          "text": [
            "[[0. 0. 0. 0. 0. 0. 0. 0. 0. 0. 0. 0. 0. 0. 0. 0. 0. 0. 0. 0. 0. 0. 0. 0.]\n",
            " [0. 0. 0. 0. 0. 0. 0. 0. 0. 0. 0. 0. 0. 0. 0. 0. 0. 0. 0. 0. 0. 0. 0. 0.]\n",
            " [0. 0. 0. 0. 0. 0. 0. 0. 0. 0. 0. 0. 0. 0. 0. 0. 0. 0. 0. 0. 0. 0. 0. 0.]\n",
            " [0. 0. 0. 0. 0. 0. 0. 0. 0. 0. 0. 0. 0. 0. 0. 0. 0. 0. 0. 0. 0. 0. 0. 0.]\n",
            " [0. 0. 0. 0. 0. 0. 0. 0. 0. 0. 0. 0. 0. 0. 0. 0. 0. 0. 0. 0. 0. 0. 0. 0.]]\n"
          ]
        }
      ],
      "source": [
        "np.set_printoptions(threshold=float(\"inf\"))   # These options determine the way floating point numbers, arrays and other NumPy objects are displayed.\n",
        "x = np.zeros((5,24))\n",
        "print(x)"
      ]
    },
    {
      "cell_type": "markdown",
      "metadata": {
        "id": "DBKEJDL1RCqW"
      },
      "source": [
        "#### 50. How to find the closest value (to a given scalar) in a vector? (★★☆) \n",
        "(**hint**: argmin)"
      ]
    },
    {
      "cell_type": "code",
      "execution_count": null,
      "metadata": {
        "id": "0ORmbdVpRCqW",
        "colab": {
          "base_uri": "https://localhost:8080/"
        },
        "outputId": "1298e6c2-ff31-4563-90bc-a41d0386f3d9"
      },
      "outputs": [
        {
          "output_type": "stream",
          "name": "stdout",
          "text": [
            "[ 0  1  2  3  4  5  6  7  8  9 10 11 12 13 14]\n",
            "13.47350032477436\n"
          ]
        }
      ],
      "source": [
        "# A scalar data structure is the most basic data type that holds only a single atomic value at a time.\n",
        "# A vector is a tuple of one or more values called scalars.\n",
        "\n",
        "x = np.arange(15)  # vector\n",
        "y = np.random.uniform(10,20)   # scalar\n",
        "print(x)\n",
        "print(y)"
      ]
    },
    {
      "cell_type": "code",
      "source": [
        "index = (np.abs(x-y)).argmin()    # index value of the closest\n",
        "x[index]                      # closest value "
      ],
      "metadata": {
        "colab": {
          "base_uri": "https://localhost:8080/"
        },
        "id": "sr_fBc7jXI1K",
        "outputId": "aa144951-69f5-40c9-887a-6612d4ba16b8"
      },
      "execution_count": null,
      "outputs": [
        {
          "output_type": "execute_result",
          "data": {
            "text/plain": [
              "13"
            ]
          },
          "metadata": {},
          "execution_count": 28
        }
      ]
    },
    {
      "cell_type": "markdown",
      "metadata": {
        "id": "hmIhU8aARCqW"
      },
      "source": [
        "#### 51. Create a structured array representing a position (x,y) and a color (r,g,b) (★★☆) \n",
        "(**hint**: dtype)"
      ]
    },
    {
      "cell_type": "code",
      "execution_count": null,
      "metadata": {
        "id": "iIoXvzMURCqW",
        "colab": {
          "base_uri": "https://localhost:8080/"
        },
        "outputId": "4f37cd16-67ca-438e-c583-853369a1bd73"
      },
      "outputs": [
        {
          "output_type": "stream",
          "name": "stdout",
          "text": [
            "[((1., 1.), (1., 1., 1.)) ((1., 1.), (1., 1., 1.))\n",
            " ((1., 1.), (1., 1., 1.)) ((1., 1.), (1., 1., 1.))\n",
            " ((1., 1.), (1., 1., 1.)) ((1., 1.), (1., 1., 1.))]\n"
          ]
        },
        {
          "output_type": "stream",
          "name": "stderr",
          "text": [
            "/usr/local/lib/python3.7/dist-packages/numpy/core/numeric.py:204: FutureWarning: Passing (type, 1) or '1type' as a synonym of type is deprecated; in a future version of numpy, it will be understood as (type, (1,)) / '(1,)type'.\n",
            "  a = empty(shape, dtype, order)\n"
          ]
        }
      ],
      "source": [
        "x = np.ones(6, [ ('position',[ ('x', float, 1),\n",
        "                               ('y', float, 1)  ]),\n",
        "                   ('color', [ ('r', float, 1),\n",
        "                               ('g', float, 1),\n",
        "                               ('b', float, 1)  ])  \n",
        "                   ])\n",
        "print(x)"
      ]
    },
    {
      "cell_type": "markdown",
      "metadata": {
        "id": "ILV1_uSjRCqX"
      },
      "source": [
        "#### 52. Consider a random vector with shape (100,2) representing coordinates, find point by point distances (★★☆) \n",
        "(**hint**: np.atleast\\_2d, T, np.sqrt)"
      ]
    },
    {
      "cell_type": "code",
      "execution_count": null,
      "metadata": {
        "id": "b-n8tyaeRCqX",
        "colab": {
          "base_uri": "https://localhost:8080/"
        },
        "outputId": "a226c1b5-6221-4c1e-fa42-9511abe0baa1"
      },
      "outputs": [
        {
          "output_type": "stream",
          "name": "stdout",
          "text": [
            "[[0.         0.16206876 0.72379621 0.40368223 0.49892604 0.44419083\n",
            "  0.81042852 0.29123553 0.40796066 0.63789201]\n",
            " [0.16206876 0.         0.74351409 0.24467812 0.33734262 0.29110981\n",
            "  0.82702817 0.4211357  0.53135584 0.51864533]\n",
            " [0.72379621 0.74351409 0.         0.88393732 0.85736838 0.74684088\n",
            "  0.08684231 0.55237336 0.50162968 0.6146934 ]\n",
            " [0.40368223 0.24467812 0.88393732 0.         0.13534957 0.18088946\n",
            "  0.95941557 0.66042906 0.76587748 0.46119176]\n",
            " [0.49892604 0.33734262 0.85736838 0.13534957 0.         0.11067891\n",
            "  0.92580522 0.72400793 0.81959159 0.3561337 ]\n",
            " [0.44419083 0.29110981 0.74684088 0.18088946 0.11067891 0.\n",
            "  0.81586975 0.63906758 0.72800525 0.28109157]\n",
            " [0.81042852 0.82702817 0.08684231 0.95941557 0.92580522 0.81586975\n",
            "  0.         0.63583433 0.57926109 0.66187061]\n",
            " [0.29123553 0.4211357  0.55237336 0.66042906 0.72400793 0.63906758\n",
            "  0.63583433 0.         0.1172895  0.73348204]\n",
            " [0.40796066 0.53135584 0.50162968 0.76587748 0.81959159 0.72800525\n",
            "  0.57926109 0.1172895  0.         0.78797448]\n",
            " [0.63789201 0.51864533 0.6146934  0.46119176 0.3561337  0.28109157\n",
            "  0.66187061 0.73348204 0.78797448 0.        ]]\n"
          ]
        }
      ],
      "source": [
        "Z = np.random.random((10,2))\n",
        "X,Y = np.atleast_2d(Z[:,0], Z[:,1])  # coordinates\n",
        "\n",
        "D = np.sqrt( (X-X.T)**2 + (Y-Y.T)**2)   # point by point distances\n",
        "print(D)"
      ]
    },
    {
      "cell_type": "markdown",
      "metadata": {
        "id": "EcE4QjwmRCqX"
      },
      "source": [
        "#### 53. How to convert a float (32 bits) array into an integer (32 bits) in place? \n",
        "(**hint**: astype(copy=False))"
      ]
    },
    {
      "cell_type": "code",
      "execution_count": null,
      "metadata": {
        "id": "deNwXcPyRCqX",
        "colab": {
          "base_uri": "https://localhost:8080/"
        },
        "outputId": "17f1ca03-ca30-4701-cdfb-7fa0f0a05940"
      },
      "outputs": [
        {
          "output_type": "execute_result",
          "data": {
            "text/plain": [
              "array([84.55781 , 14.387435, 98.30659 , 95.516945, 40.376774, 52.318745,\n",
              "       73.16803 , 25.962032, 98.27026 , 74.448845, 25.91712 , 86.851845,\n",
              "       57.002438, 20.511923, 91.86871 ], dtype=float32)"
            ]
          },
          "metadata": {},
          "execution_count": 37
        }
      ],
      "source": [
        "X = (np.random.rand(15)*100).astype(np.float32)  # float (32 bits) array\n",
        "X"
      ]
    },
    {
      "cell_type": "code",
      "source": [
        "Y = X.view(np.int32)    # New view of array with the same data.\n",
        "print(Y)"
      ],
      "metadata": {
        "colab": {
          "base_uri": "https://localhost:8080/"
        },
        "id": "KSMm49UwFMES",
        "outputId": "1e7cc59b-e1d3-48d4-a340-14b2c0d2a35d"
      },
      "execution_count": null,
      "outputs": [
        {
          "output_type": "stream",
          "name": "stdout",
          "text": [
            "[84 14 98 95 40 52 73 25 98 74 25 86 57 20 91]\n"
          ]
        }
      ]
    },
    {
      "cell_type": "markdown",
      "metadata": {
        "id": "ZhFZdaF3RCqX"
      },
      "source": [
        "#### 54. How to read the following file? (★★☆) \n",
        "(**hint**: np.genfromtxt)"
      ]
    },
    {
      "cell_type": "markdown",
      "metadata": {
        "id": "UzkQ_R4QRCqX"
      },
      "source": [
        "```\n",
        "1, 2, 3, 4, 5\n",
        "6,  ,  , 7, 8\n",
        " ,  , 9,10,11\n",
        "```"
      ]
    },
    {
      "cell_type": "code",
      "execution_count": null,
      "metadata": {
        "id": "KtxO6n1vRCqX",
        "colab": {
          "base_uri": "https://localhost:8080/"
        },
        "outputId": "d9c12479-ac97-4063-edc2-3f0c3cf3f61f"
      },
      "outputs": [
        {
          "output_type": "stream",
          "name": "stdout",
          "text": [
            "[[ 1  2  3  4  5]\n",
            " [ 6 -1 -1  7  8]\n",
            " [-1 -1  9 10 11]]\n"
          ]
        },
        {
          "output_type": "stream",
          "name": "stderr",
          "text": [
            "/usr/local/lib/python3.7/dist-packages/ipykernel_launcher.py:7: DeprecationWarning: `np.int` is a deprecated alias for the builtin `int`. To silence this warning, use `int` by itself. Doing this will not modify any behavior and is safe. When replacing `np.int`, you may wish to use e.g. `np.int64` or `np.int32` to specify the precision. If you wish to review your current use, check the release note link for additional information.\n",
            "Deprecated in NumPy 1.20; for more details and guidance: https://numpy.org/devdocs/release/1.20.0-notes.html#deprecations\n",
            "  import sys\n"
          ]
        }
      ],
      "source": [
        "from io import StringIO\n",
        "\n",
        "s = StringIO('''1, 2, 3, 4, 5\n",
        "                6,  ,  , 7, 8\n",
        "                 ,  , 9,10,11\n",
        "             ''')\n",
        "Z = np.genfromtxt(s, delimiter=\",\", dtype= np.int)\n",
        "print(Z)"
      ]
    },
    {
      "cell_type": "markdown",
      "metadata": {
        "id": "Z-_cYRhYRCqX"
      },
      "source": [
        "#### 55. What is the equivalent of enumerate for numpy arrays? (★★☆) \n",
        "(**hint**: np.ndenumerate, np.ndindex)"
      ]
    },
    {
      "cell_type": "code",
      "execution_count": null,
      "metadata": {
        "id": "yq4gBFQ7RCqY",
        "colab": {
          "base_uri": "https://localhost:8080/"
        },
        "outputId": "e128019e-5d1c-49ba-857e-f227493dc3c6"
      },
      "outputs": [
        {
          "output_type": "execute_result",
          "data": {
            "text/plain": [
              "array([[0, 1, 2],\n",
              "       [3, 4, 5],\n",
              "       [6, 7, 8]])"
            ]
          },
          "metadata": {},
          "execution_count": 42
        }
      ],
      "source": [
        "x = np.arange(9).reshape(3,3)\n",
        "x"
      ]
    },
    {
      "cell_type": "code",
      "source": [
        "for index, value in np.ndenumerate(x):  # Multidimensional index iterator  # both index & values\n",
        "    print(index, value)"
      ],
      "metadata": {
        "colab": {
          "base_uri": "https://localhost:8080/"
        },
        "id": "ViWpUXILGCyU",
        "outputId": "e9f0d217-f562-4aaf-bac3-e1887328533c"
      },
      "execution_count": null,
      "outputs": [
        {
          "output_type": "stream",
          "name": "stdout",
          "text": [
            "(0, 0) 0\n",
            "(0, 1) 1\n",
            "(0, 2) 2\n",
            "(1, 0) 3\n",
            "(1, 1) 4\n",
            "(1, 2) 5\n",
            "(2, 0) 6\n",
            "(2, 1) 7\n",
            "(2, 2) 8\n"
          ]
        }
      ]
    },
    {
      "cell_type": "code",
      "source": [
        "x.shape"
      ],
      "metadata": {
        "colab": {
          "base_uri": "https://localhost:8080/"
        },
        "id": "mH8zDh2rGsrS",
        "outputId": "7db6e666-ab92-4d79-cdc0-9ca8d45aa1fc"
      },
      "execution_count": null,
      "outputs": [
        {
          "output_type": "execute_result",
          "data": {
            "text/plain": [
              "(3, 3)"
            ]
          },
          "metadata": {},
          "execution_count": 46
        }
      ]
    },
    {
      "cell_type": "code",
      "source": [
        "for index in np.ndindex(x.shape):   # An N-dimensional iterator object to index arrays  # only index\n",
        "    print(index, x[index])"
      ],
      "metadata": {
        "colab": {
          "base_uri": "https://localhost:8080/"
        },
        "id": "skoJRdL3GLCY",
        "outputId": "5db81b7c-cab2-456f-e6f3-c2f88fefc899"
      },
      "execution_count": null,
      "outputs": [
        {
          "output_type": "stream",
          "name": "stdout",
          "text": [
            "(0, 0) 0\n",
            "(0, 1) 1\n",
            "(0, 2) 2\n",
            "(1, 0) 3\n",
            "(1, 1) 4\n",
            "(1, 2) 5\n",
            "(2, 0) 6\n",
            "(2, 1) 7\n",
            "(2, 2) 8\n"
          ]
        }
      ]
    },
    {
      "cell_type": "markdown",
      "metadata": {
        "id": "Cf1wv1lgRCqY"
      },
      "source": [
        "#### 56. Generate a generic 2D Gaussian-like array (★★☆) \n",
        "(**hint**: np.meshgrid, np.exp)"
      ]
    },
    {
      "cell_type": "code",
      "execution_count": null,
      "metadata": {
        "id": "sasyRr-2RCqY",
        "colab": {
          "base_uri": "https://localhost:8080/"
        },
        "outputId": "89bf8768-cdfd-42c1-880a-0e79fd2be5f5"
      },
      "outputs": [
        {
          "output_type": "stream",
          "name": "stdout",
          "text": [
            "[[0.36787944 0.53526143 0.60653066 0.53526143 0.36787944]\n",
            " [0.53526143 0.77880078 0.8824969  0.77880078 0.53526143]\n",
            " [0.60653066 0.8824969  1.         0.8824969  0.60653066]\n",
            " [0.53526143 0.77880078 0.8824969  0.77880078 0.53526143]\n",
            " [0.36787944 0.53526143 0.60653066 0.53526143 0.36787944]]\n"
          ]
        }
      ],
      "source": [
        "X, Y = np.meshgrid(np.linspace(-1,1,5), np.linspace(-1,1,5))   # coordinates\n",
        "\n",
        "D = np.sqrt(X*X+Y*Y)\n",
        "sigma, mu = 1.0, 0.0\n",
        "Gaussian = np.exp(-( (D-mu)**2 / ( 2.0 * sigma**2 ) ) )   # formula\n",
        "\n",
        "print(Gaussian)"
      ]
    },
    {
      "cell_type": "markdown",
      "metadata": {
        "id": "ZmY_UtuURCqY"
      },
      "source": [
        "#### 57. How to randomly place p elements in a 2D array? (★★☆) \n",
        "(**hint**: np.put, np.random.choice)"
      ]
    },
    {
      "cell_type": "code",
      "execution_count": null,
      "metadata": {
        "id": "mwDbjt_CRCqY",
        "colab": {
          "base_uri": "https://localhost:8080/"
        },
        "outputId": "71b5f670-306b-4cf0-f599-c3829c26a9d2"
      },
      "outputs": [
        {
          "output_type": "stream",
          "name": "stdout",
          "text": [
            "[[5. 0. 0. 5. 0.]\n",
            " [0. 0. 0. 0. 0.]\n",
            " [0. 5. 5. 5. 5.]\n",
            " [0. 0. 0. 5. 0.]\n",
            " [0. 0. 0. 0. 5.]]\n"
          ]
        }
      ],
      "source": [
        "n = 5\n",
        "p = 8    # p elements \n",
        "\n",
        "x = np.zeros((n,n))   # 2-d array\n",
        "\n",
        "np.put(x, np.random.choice(range(n*n), p),5)\n",
        "\n",
        "print(x)"
      ]
    },
    {
      "cell_type": "markdown",
      "metadata": {
        "id": "xPeUNPuSRCqY"
      },
      "source": [
        "#### 58. Subtract the mean of each row of a matrix (★★☆) \n",
        "(**hint**: mean(axis=,keepdims=))"
      ]
    },
    {
      "cell_type": "code",
      "execution_count": null,
      "metadata": {
        "id": "whdyVnjTRCqY",
        "colab": {
          "base_uri": "https://localhost:8080/"
        },
        "outputId": "67894a53-773e-43de-c798-ad43c16c4748"
      },
      "outputs": [
        {
          "output_type": "execute_result",
          "data": {
            "text/plain": [
              "array([[ 0.23443069,  0.6271141 , -0.26013247, -0.33782012, -0.26359219],\n",
              "       [-0.21771965,  0.02214929, -0.10563096,  0.38798679, -0.08678547],\n",
              "       [ 0.16122629,  0.1825722 , -0.26583112, -0.19516562,  0.11719825]])"
            ]
          },
          "metadata": {},
          "execution_count": 51
        }
      ],
      "source": [
        "x = np.random.rand(3, 5)      # 3-rows, 5-cols\n",
        "\n",
        "ans = x - x.mean(axis=1, keepdims=True)         # axis=1 means across the columns for each row\n",
        "ans"
      ]
    },
    {
      "cell_type": "markdown",
      "metadata": {
        "id": "ZuG56H1WRCqY"
      },
      "source": [
        "#### 59. How to sort an array by the nth column? (★★☆) \n",
        "(**hint**: argsort)"
      ]
    },
    {
      "cell_type": "code",
      "execution_count": null,
      "metadata": {
        "id": "dRzBrcTHRCqY",
        "colab": {
          "base_uri": "https://localhost:8080/"
        },
        "outputId": "898494fb-b0de-4236-ec83-cb1a3842f4cf"
      },
      "outputs": [
        {
          "output_type": "execute_result",
          "data": {
            "text/plain": [
              "array([[13, 10, 23, 14,  9],\n",
              "       [ 3,  5,  1,  6, 25],\n",
              "       [20, 15, 14,  9,  0],\n",
              "       [21,  3,  8, 22,  6],\n",
              "       [ 2,  2, 16, 18,  5]])"
            ]
          },
          "metadata": {},
          "execution_count": 52
        }
      ],
      "source": [
        "x = np.random.randint(0,26,(5,5))\n",
        "x"
      ]
    },
    {
      "cell_type": "code",
      "source": [
        "n = 2\n",
        "x[ x[:,n].argsort() ]"
      ],
      "metadata": {
        "colab": {
          "base_uri": "https://localhost:8080/"
        },
        "id": "nGl1PZBuiS8j",
        "outputId": "17a89e22-d78c-476c-c494-8b8d7fc62823"
      },
      "execution_count": null,
      "outputs": [
        {
          "output_type": "execute_result",
          "data": {
            "text/plain": [
              "array([[ 3,  5,  1,  6, 25],\n",
              "       [21,  3,  8, 22,  6],\n",
              "       [20, 15, 14,  9,  0],\n",
              "       [ 2,  2, 16, 18,  5],\n",
              "       [13, 10, 23, 14,  9]])"
            ]
          },
          "metadata": {},
          "execution_count": 54
        }
      ]
    },
    {
      "cell_type": "markdown",
      "metadata": {
        "id": "jCFmHpCjRCqY"
      },
      "source": [
        "#### 60. How to tell if a given 2D array has null columns? (★★☆) \n",
        "(**hint**: any, ~)"
      ]
    },
    {
      "cell_type": "code",
      "execution_count": null,
      "metadata": {
        "id": "yUJm_doKRCqZ",
        "colab": {
          "base_uri": "https://localhost:8080/"
        },
        "outputId": "0b571304-e0e3-486c-ba5f-90aef0be4f56"
      },
      "outputs": [
        {
          "output_type": "execute_result",
          "data": {
            "text/plain": [
              "array([[1, 0, 0, 0, 1, 1, 0, 1, 0, 1],\n",
              "       [0, 0, 0, 0, 1, 1, 1, 1, 0, 0],\n",
              "       [1, 1, 1, 0, 0, 1, 0, 1, 0, 1],\n",
              "       [1, 0, 0, 0, 1, 1, 1, 1, 1, 0]])"
            ]
          },
          "metadata": {},
          "execution_count": 107
        }
      ],
      "source": [
        "x = np.random.randint(0,2,(4,10))\n",
        "x"
      ]
    },
    {
      "cell_type": "code",
      "source": [
        "(~x.any(axis=0)).any()   # axis=0 means across the rows for each column"
      ],
      "metadata": {
        "colab": {
          "base_uri": "https://localhost:8080/"
        },
        "id": "dp7zlLMri7dG",
        "outputId": "e27a6fc1-c4fb-4f31-9ab6-a54d744b1407"
      },
      "execution_count": null,
      "outputs": [
        {
          "output_type": "execute_result",
          "data": {
            "text/plain": [
              "True"
            ]
          },
          "metadata": {},
          "execution_count": 108
        }
      ]
    },
    {
      "cell_type": "markdown",
      "metadata": {
        "id": "yQRYeDTgRCqZ"
      },
      "source": [
        "#### 61. Find the nearest value from a given value in an array (★★☆) \n",
        "(**hint**: np.abs, argmin, flat)"
      ]
    },
    {
      "cell_type": "code",
      "execution_count": null,
      "metadata": {
        "id": "pLob1LVqRCqZ",
        "colab": {
          "base_uri": "https://localhost:8080/"
        },
        "outputId": "ef18c153-d10e-40be-9e50-4d0e9f254589"
      },
      "outputs": [
        {
          "output_type": "execute_result",
          "data": {
            "text/plain": [
              "array([1.91714033, 1.1160197 , 1.92430542, 1.54849848, 1.67648823,\n",
              "       1.97049841, 1.39575565, 1.66362616, 1.49659803, 1.13861547])"
            ]
          },
          "metadata": {},
          "execution_count": 2
        }
      ],
      "source": [
        "x = np.random.uniform(1,2,10)\n",
        "z = 0.8\n",
        "x"
      ]
    },
    {
      "cell_type": "code",
      "source": [
        "x.flat[np.abs(x-z).argmin()]       # flat : 1-D iterator over the array."
      ],
      "metadata": {
        "colab": {
          "base_uri": "https://localhost:8080/"
        },
        "id": "hI_wP3-Cj3Fx",
        "outputId": "73722d7d-d0a0-499f-92e6-ae4816a518c2"
      },
      "execution_count": null,
      "outputs": [
        {
          "output_type": "execute_result",
          "data": {
            "text/plain": [
              "0.7213515688285658"
            ]
          },
          "metadata": {},
          "execution_count": 110
        }
      ]
    },
    {
      "cell_type": "markdown",
      "metadata": {
        "id": "9Nplnzq8RCqZ"
      },
      "source": [
        "#### 62. Considering two arrays with shape (1,3) and (3,1), how to compute their sum using an iterator? (★★☆) \n",
        "(**hint**: np.nditer)"
      ]
    },
    {
      "cell_type": "code",
      "execution_count": null,
      "metadata": {
        "id": "DI3kWNRpRCqZ",
        "colab": {
          "base_uri": "https://localhost:8080/"
        },
        "outputId": "e7e630df-0f7e-4af4-a157-9be155b332da"
      },
      "outputs": [
        {
          "output_type": "stream",
          "name": "stdout",
          "text": [
            "[[0]\n",
            " [1]\n",
            " [2]]\n",
            "[[0 1 2]]\n"
          ]
        }
      ],
      "source": [
        "A = np.arange(3).reshape(3,1)\n",
        "B = np.arange(3).reshape(1,3)\n",
        "print(A)\n",
        "print(B)"
      ]
    },
    {
      "cell_type": "code",
      "source": [
        "iterator = np.nditer([A,B,None])\n",
        "\n",
        "for x,y,z in iterator: \n",
        "    z = x + y\n",
        "\n",
        "print(iterator.operands[2])"
      ],
      "metadata": {
        "colab": {
          "base_uri": "https://localhost:8080/"
        },
        "id": "AN4MKembZjA_",
        "outputId": "af04399e-bd63-4fe8-98ac-b9f7054b25f1"
      },
      "execution_count": null,
      "outputs": [
        {
          "output_type": "stream",
          "name": "stdout",
          "text": [
            "[[0 1 2]\n",
            " [1 2 3]\n",
            " [2 3 4]]\n"
          ]
        }
      ]
    },
    {
      "cell_type": "markdown",
      "metadata": {
        "id": "Mq38jPe4RCqZ"
      },
      "source": [
        "#### 63. Create an array class that has a name attribute (★★☆) \n",
        "(**hint**: class method)"
      ]
    },
    {
      "cell_type": "code",
      "execution_count": null,
      "metadata": {
        "id": "j50U3SwJRCqZ"
      },
      "outputs": [],
      "source": [
        ""
      ]
    },
    {
      "cell_type": "markdown",
      "metadata": {
        "id": "npEneTl1RCqZ"
      },
      "source": [
        "#### 64. Consider a given vector, how to add 1 to each element indexed by a second vector (be careful with repeated indices)? (★★★) \n",
        "(**hint**: np.bincount | np.add.at)"
      ]
    },
    {
      "cell_type": "code",
      "execution_count": null,
      "metadata": {
        "id": "WDt4huHkRCqa",
        "colab": {
          "base_uri": "https://localhost:8080/"
        },
        "outputId": "d5534d86-766a-4427-ccce-1b67210b68d6"
      },
      "outputs": [
        {
          "output_type": "stream",
          "name": "stdout",
          "text": [
            "[1. 1. 1. 1. 1. 1. 1. 1. 1. 1.]\n",
            "[6 3 6 2 6]\n"
          ]
        }
      ],
      "source": [
        "Z = np.ones(10)    # vector\n",
        "I = np.random.randint(0,10,5)     # second vector\n",
        "print(Z)\n",
        "print(I)"
      ]
    },
    {
      "cell_type": "code",
      "source": [
        "Z = Z + np.bincount(I, minlength=len(Z))     # bincount : Count number of occurrences of each value in array of non-negative ints.\n",
        "print(Z)\n",
        "\n",
        "np.add.at(Z, I, 1)\n",
        "print(Z)"
      ],
      "metadata": {
        "colab": {
          "base_uri": "https://localhost:8080/"
        },
        "id": "nBUCaoMHbcwR",
        "outputId": "28ab25d6-d4b0-4617-d9df-9338951b0345"
      },
      "execution_count": null,
      "outputs": [
        {
          "output_type": "stream",
          "name": "stdout",
          "text": [
            "[1. 1. 2. 2. 1. 1. 4. 1. 1. 1.]\n",
            "[1. 1. 3. 3. 1. 1. 7. 1. 1. 1.]\n"
          ]
        }
      ]
    },
    {
      "cell_type": "markdown",
      "metadata": {
        "id": "5AxdeK4xRCqa"
      },
      "source": [
        "#### 65. How to accumulate elements of a vector (X) to an array (F) based on an index list (I)? (★★★) \n",
        "(**hint**: np.bincount)"
      ]
    },
    {
      "cell_type": "code",
      "execution_count": null,
      "metadata": {
        "id": "b4szbhVoRCqa",
        "colab": {
          "base_uri": "https://localhost:8080/"
        },
        "outputId": "2bc70626-6ac1-4ecf-fda0-a376f61254eb"
      },
      "outputs": [
        {
          "output_type": "stream",
          "name": "stdout",
          "text": [
            "[ 0.  3.  3. 12.  9. 12.  0.  0.  6.]\n"
          ]
        }
      ],
      "source": [
        "X = [1,2,3,4,5,6,7,8,9]   # weights\n",
        "I = [1,1,2,3,5,8,5,3,4]      # index list   # there are no 0,6,7. hence 0\n",
        "\n",
        "F = np.bincount(I,X)\n",
        "print(F)"
      ]
    },
    {
      "cell_type": "markdown",
      "metadata": {
        "id": "YuetKVR3RCqa"
      },
      "source": [
        "#### 66. Considering a (w,h,3) image of (dtype=ubyte), compute the number of unique colors (★★★) \n",
        "(**hint**: np.unique)"
      ]
    },
    {
      "cell_type": "code",
      "execution_count": null,
      "metadata": {
        "id": "B6-U9bE_RCqa",
        "colab": {
          "base_uri": "https://localhost:8080/"
        },
        "outputId": "9c5e9af8-8118-421f-f166-ec66bd568a91"
      },
      "outputs": [
        {
          "output_type": "execute_result",
          "data": {
            "text/plain": [
              "array([[[3, 2, 0],\n",
              "        [3, 3, 3],\n",
              "        [3, 3, 0],\n",
              "        ...,\n",
              "        [1, 1, 2],\n",
              "        [1, 1, 1],\n",
              "        [3, 2, 0]],\n",
              "\n",
              "       [[3, 0, 3],\n",
              "        [3, 3, 1],\n",
              "        [1, 0, 3],\n",
              "        ...,\n",
              "        [3, 2, 1],\n",
              "        [1, 1, 1],\n",
              "        [1, 3, 1]],\n",
              "\n",
              "       [[1, 0, 0],\n",
              "        [1, 1, 3],\n",
              "        [0, 3, 1],\n",
              "        ...,\n",
              "        [2, 1, 3],\n",
              "        [2, 0, 3],\n",
              "        [0, 1, 1]],\n",
              "\n",
              "       ...,\n",
              "\n",
              "       [[0, 2, 1],\n",
              "        [3, 0, 2],\n",
              "        [2, 0, 2],\n",
              "        ...,\n",
              "        [0, 1, 3],\n",
              "        [3, 1, 3],\n",
              "        [0, 1, 1]],\n",
              "\n",
              "       [[0, 0, 1],\n",
              "        [0, 1, 2],\n",
              "        [1, 3, 2],\n",
              "        ...,\n",
              "        [0, 0, 1],\n",
              "        [0, 3, 1],\n",
              "        [1, 1, 2]],\n",
              "\n",
              "       [[2, 0, 0],\n",
              "        [3, 2, 0],\n",
              "        [3, 3, 3],\n",
              "        ...,\n",
              "        [1, 2, 1],\n",
              "        [0, 2, 3],\n",
              "        [3, 0, 1]]], dtype=uint8)"
            ]
          },
          "metadata": {},
          "execution_count": 29
        }
      ],
      "source": [
        "w, h = 256, 256\n",
        "I = np.random.randint(0, 4, (h, w, 3)).astype(np.ubyte)\n",
        "I"
      ]
    },
    {
      "cell_type": "markdown",
      "source": [
        "* reshape(rows,columns)"
      ],
      "metadata": {
        "id": "PhiEpdA5hDaY"
      }
    },
    {
      "cell_type": "code",
      "source": [
        "colors = np.unique(I.reshape(-1, 3), axis=0)  # -1 :  simply means that it is an unknown dimension and we want numpy to figure it out\n",
        "print(colors)"
      ],
      "metadata": {
        "colab": {
          "base_uri": "https://localhost:8080/"
        },
        "id": "ZDeCPoejgLbe",
        "outputId": "2a979855-932e-42ee-9b12-2c8629a2dfc0"
      },
      "execution_count": null,
      "outputs": [
        {
          "output_type": "stream",
          "name": "stdout",
          "text": [
            "[[0 0 0]\n",
            " [0 0 1]\n",
            " [0 0 2]\n",
            " [0 0 3]\n",
            " [0 1 0]\n",
            " [0 1 1]\n",
            " [0 1 2]\n",
            " [0 1 3]\n",
            " [0 2 0]\n",
            " [0 2 1]\n",
            " [0 2 2]\n",
            " [0 2 3]\n",
            " [0 3 0]\n",
            " [0 3 1]\n",
            " [0 3 2]\n",
            " [0 3 3]\n",
            " [1 0 0]\n",
            " [1 0 1]\n",
            " [1 0 2]\n",
            " [1 0 3]\n",
            " [1 1 0]\n",
            " [1 1 1]\n",
            " [1 1 2]\n",
            " [1 1 3]\n",
            " [1 2 0]\n",
            " [1 2 1]\n",
            " [1 2 2]\n",
            " [1 2 3]\n",
            " [1 3 0]\n",
            " [1 3 1]\n",
            " [1 3 2]\n",
            " [1 3 3]\n",
            " [2 0 0]\n",
            " [2 0 1]\n",
            " [2 0 2]\n",
            " [2 0 3]\n",
            " [2 1 0]\n",
            " [2 1 1]\n",
            " [2 1 2]\n",
            " [2 1 3]\n",
            " [2 2 0]\n",
            " [2 2 1]\n",
            " [2 2 2]\n",
            " [2 2 3]\n",
            " [2 3 0]\n",
            " [2 3 1]\n",
            " [2 3 2]\n",
            " [2 3 3]\n",
            " [3 0 0]\n",
            " [3 0 1]\n",
            " [3 0 2]\n",
            " [3 0 3]\n",
            " [3 1 0]\n",
            " [3 1 1]\n",
            " [3 1 2]\n",
            " [3 1 3]\n",
            " [3 2 0]\n",
            " [3 2 1]\n",
            " [3 2 2]\n",
            " [3 2 3]\n",
            " [3 3 0]\n",
            " [3 3 1]\n",
            " [3 3 2]\n",
            " [3 3 3]]\n"
          ]
        }
      ]
    },
    {
      "cell_type": "code",
      "source": [
        "n = len(colors)\n",
        "print(n)"
      ],
      "metadata": {
        "colab": {
          "base_uri": "https://localhost:8080/"
        },
        "id": "MoUrqnBzgNUH",
        "outputId": "18ed7918-0e9b-4d61-a89a-4cc22551fa44"
      },
      "execution_count": null,
      "outputs": [
        {
          "output_type": "stream",
          "name": "stdout",
          "text": [
            "64\n"
          ]
        }
      ]
    },
    {
      "cell_type": "markdown",
      "metadata": {
        "id": "w6vn-iKORCqa"
      },
      "source": [
        "#### 67. Considering a four dimensions array, how to get sum over the last two axis at once? (★★★) \n",
        "(**hint**: sum(axis=(-2,-1)))"
      ]
    },
    {
      "cell_type": "code",
      "execution_count": null,
      "metadata": {
        "id": "N7Ln6WAfRCqa"
      },
      "outputs": [],
      "source": [
        ""
      ]
    },
    {
      "cell_type": "markdown",
      "metadata": {
        "id": "UbohvwMWRCqb"
      },
      "source": [
        "#### 68. Considering a one-dimensional vector D, how to compute means of subsets of D using a vector S of same size describing subset  indices? (★★★) \n",
        "(**hint**: np.bincount)"
      ]
    },
    {
      "cell_type": "code",
      "execution_count": null,
      "metadata": {
        "id": "ZU716m7YRCqb"
      },
      "outputs": [],
      "source": [
        ""
      ]
    },
    {
      "cell_type": "markdown",
      "metadata": {
        "id": "3YLqofsxRCqb"
      },
      "source": [
        "#### 69. How to get the diagonal of a dot product? (★★★) \n",
        "(**hint**: np.diag)"
      ]
    },
    {
      "cell_type": "code",
      "execution_count": null,
      "metadata": {
        "id": "Or8Iyy5DRCqb",
        "colab": {
          "base_uri": "https://localhost:8080/"
        },
        "outputId": "f9c9d93e-24b1-4cb2-abdd-c03be575ec48"
      },
      "outputs": [
        {
          "output_type": "stream",
          "name": "stdout",
          "text": [
            "[[0.32962909 0.81439868 0.85670072]\n",
            " [0.79464595 0.0676864  0.3708671 ]\n",
            " [0.55171605 0.1466836  0.10697775]]\n",
            "[[0.35805794 0.65040612 0.36693067]\n",
            " [0.36239429 0.11664927 0.9691935 ]\n",
            " [0.30832877 0.13983575 0.67777697]]\n"
          ]
        }
      ],
      "source": [
        "A = np.random.uniform(0,1,(3,3))\n",
        "B = np.random.uniform(0,1,(3,3))\n",
        "\n",
        "print(A)\n",
        "print(B)"
      ]
    },
    {
      "cell_type": "code",
      "source": [
        "np.diag(np.dot(A, B))    #  product of two arrays. "
      ],
      "metadata": {
        "colab": {
          "base_uri": "https://localhost:8080/"
        },
        "id": "M9A896b4mi7h",
        "outputId": "cc4c5c11-5968-4590-d1f3-1c66c63ecca3"
      },
      "execution_count": null,
      "outputs": [
        {
          "output_type": "execute_result",
          "data": {
            "text/plain": [
              "array([0.67730523, 0.57659864, 0.41711338])"
            ]
          },
          "metadata": {},
          "execution_count": 33
        }
      ]
    },
    {
      "cell_type": "markdown",
      "metadata": {
        "id": "vYR5lpAkRCqb"
      },
      "source": [
        "#### 70. Consider the vector \\[1, 2, 3, 4, 5\\], how to build a new vector with 3 consecutive zeros interleaved between each value? (★★★) \n",
        "(**hint**: array\\[::4\\])"
      ]
    },
    {
      "cell_type": "code",
      "execution_count": null,
      "metadata": {
        "id": "wTN17ousRCqb"
      },
      "outputs": [],
      "source": [
        ""
      ]
    },
    {
      "cell_type": "markdown",
      "metadata": {
        "id": "zTH0X05CRCqb"
      },
      "source": [
        "#### 71. Consider an array of dimension (5,5,3), how to mulitply it by an array with dimensions (5,5)? (★★★) \n",
        "(**hint**: array\\[:, :, None\\])"
      ]
    },
    {
      "cell_type": "code",
      "execution_count": null,
      "metadata": {
        "id": "OWF2LS03RCqb",
        "colab": {
          "base_uri": "https://localhost:8080/"
        },
        "outputId": "fc029c20-98c1-4fab-ba86-5ccab8dd961d"
      },
      "outputs": [
        {
          "output_type": "stream",
          "name": "stdout",
          "text": [
            "[[[1. 1. 1.]\n",
            "  [1. 1. 1.]\n",
            "  [1. 1. 1.]\n",
            "  [1. 1. 1.]\n",
            "  [1. 1. 1.]]\n",
            "\n",
            " [[1. 1. 1.]\n",
            "  [1. 1. 1.]\n",
            "  [1. 1. 1.]\n",
            "  [1. 1. 1.]\n",
            "  [1. 1. 1.]]\n",
            "\n",
            " [[1. 1. 1.]\n",
            "  [1. 1. 1.]\n",
            "  [1. 1. 1.]\n",
            "  [1. 1. 1.]\n",
            "  [1. 1. 1.]]\n",
            "\n",
            " [[1. 1. 1.]\n",
            "  [1. 1. 1.]\n",
            "  [1. 1. 1.]\n",
            "  [1. 1. 1.]\n",
            "  [1. 1. 1.]]\n",
            "\n",
            " [[1. 1. 1.]\n",
            "  [1. 1. 1.]\n",
            "  [1. 1. 1.]\n",
            "  [1. 1. 1.]\n",
            "  [1. 1. 1.]]]\n",
            "[[2. 2. 2. 2. 2.]\n",
            " [2. 2. 2. 2. 2.]\n",
            " [2. 2. 2. 2. 2.]\n",
            " [2. 2. 2. 2. 2.]\n",
            " [2. 2. 2. 2. 2.]]\n"
          ]
        }
      ],
      "source": [
        "x = np.ones((5,5,3))      # 5-times 5x3\n",
        "y = 2*np.ones((5,5))\n",
        "\n",
        "print(x)\n",
        "print(y)"
      ]
    },
    {
      "cell_type": "code",
      "source": [
        "print(x * y[:,:,None])"
      ],
      "metadata": {
        "colab": {
          "base_uri": "https://localhost:8080/"
        },
        "id": "B4mx1pIUnOxV",
        "outputId": "9a8634ea-7769-4cb1-cb0f-e63b1b8de067"
      },
      "execution_count": null,
      "outputs": [
        {
          "output_type": "stream",
          "name": "stdout",
          "text": [
            "[[[2. 2. 2.]\n",
            "  [2. 2. 2.]\n",
            "  [2. 2. 2.]\n",
            "  [2. 2. 2.]\n",
            "  [2. 2. 2.]]\n",
            "\n",
            " [[2. 2. 2.]\n",
            "  [2. 2. 2.]\n",
            "  [2. 2. 2.]\n",
            "  [2. 2. 2.]\n",
            "  [2. 2. 2.]]\n",
            "\n",
            " [[2. 2. 2.]\n",
            "  [2. 2. 2.]\n",
            "  [2. 2. 2.]\n",
            "  [2. 2. 2.]\n",
            "  [2. 2. 2.]]\n",
            "\n",
            " [[2. 2. 2.]\n",
            "  [2. 2. 2.]\n",
            "  [2. 2. 2.]\n",
            "  [2. 2. 2.]\n",
            "  [2. 2. 2.]]\n",
            "\n",
            " [[2. 2. 2.]\n",
            "  [2. 2. 2.]\n",
            "  [2. 2. 2.]\n",
            "  [2. 2. 2.]\n",
            "  [2. 2. 2.]]]\n"
          ]
        }
      ]
    },
    {
      "cell_type": "markdown",
      "metadata": {
        "id": "AItC5SBERCqb"
      },
      "source": [
        "#### 72. How to swap two rows of an array? (★★★) \n",
        "(**hint**: array\\[\\[\\]\\] = array\\[\\[\\]\\])"
      ]
    },
    {
      "cell_type": "code",
      "execution_count": null,
      "metadata": {
        "id": "M5TcS6lqRCqc",
        "colab": {
          "base_uri": "https://localhost:8080/"
        },
        "outputId": "0aa77d97-a007-45de-f136-14486a26f6c0"
      },
      "outputs": [
        {
          "output_type": "execute_result",
          "data": {
            "text/plain": [
              "array([[ 0,  1,  2,  3,  4],\n",
              "       [ 5,  6,  7,  8,  9],\n",
              "       [10, 11, 12, 13, 14],\n",
              "       [15, 16, 17, 18, 19],\n",
              "       [20, 21, 22, 23, 24]])"
            ]
          },
          "metadata": {},
          "execution_count": 8
        }
      ],
      "source": [
        "x = np.arange(25).reshape(5,5)\n",
        "x"
      ]
    },
    {
      "cell_type": "code",
      "source": [
        "x[[0,1]] = x[[1,0]]         # swapping rows based on index\n",
        "x"
      ],
      "metadata": {
        "colab": {
          "base_uri": "https://localhost:8080/"
        },
        "id": "jDPt_6mMnuK0",
        "outputId": "da8b9515-b247-44e6-f30c-86e4b23206b5"
      },
      "execution_count": null,
      "outputs": [
        {
          "output_type": "execute_result",
          "data": {
            "text/plain": [
              "array([[ 5,  6,  7,  8,  9],\n",
              "       [ 0,  1,  2,  3,  4],\n",
              "       [10, 11, 12, 13, 14],\n",
              "       [15, 16, 17, 18, 19],\n",
              "       [20, 21, 22, 23, 24]])"
            ]
          },
          "metadata": {},
          "execution_count": 11
        }
      ]
    },
    {
      "cell_type": "code",
      "source": [
        "x[:,[0,1]] = x[:,[1,0]]         # swapping columns based on index\n",
        "x"
      ],
      "metadata": {
        "colab": {
          "base_uri": "https://localhost:8080/"
        },
        "id": "By5HqpRqKUHP",
        "outputId": "8dbbd352-5a79-41b5-b6dc-93f11de10ad3"
      },
      "execution_count": null,
      "outputs": [
        {
          "output_type": "execute_result",
          "data": {
            "text/plain": [
              "array([[ 0,  1,  2,  3,  4],\n",
              "       [ 5,  6,  7,  8,  9],\n",
              "       [10, 11, 12, 13, 14],\n",
              "       [15, 16, 17, 18, 19],\n",
              "       [20, 21, 22, 23, 24]])"
            ]
          },
          "metadata": {},
          "execution_count": 10
        }
      ]
    },
    {
      "cell_type": "markdown",
      "metadata": {
        "id": "fgHFN3DkRCqc"
      },
      "source": [
        "#### 73. Consider a set of 10 triplets describing 10 triangles (with shared vertices), find the set of unique line segments composing all the  triangles (★★★) \n",
        "(**hint**: repeat, np.roll, np.sort, view, np.unique)"
      ]
    },
    {
      "cell_type": "code",
      "execution_count": null,
      "metadata": {
        "id": "NPOMNOcbRCqc"
      },
      "outputs": [],
      "source": [
        ""
      ]
    },
    {
      "cell_type": "markdown",
      "metadata": {
        "id": "brGhG9FVRCqc"
      },
      "source": [
        "#### 74. Given an array C that is a bincount, how to produce an array A such that np.bincount(A) == C? (★★★) \n",
        "(**hint**: np.repeat)"
      ]
    },
    {
      "cell_type": "code",
      "execution_count": null,
      "metadata": {
        "id": "D4yabYKyRCqc",
        "colab": {
          "base_uri": "https://localhost:8080/"
        },
        "outputId": "484829c0-fc70-4140-c72f-f09aee602d9a"
      },
      "outputs": [
        {
          "output_type": "stream",
          "name": "stdout",
          "text": [
            "[1 1 2 3 4 4 6]\n"
          ]
        }
      ],
      "source": [
        "C = np.bincount([1,1,2,3,4,4,6])\n",
        "A = np.repeat(np.arange(len(C)), C)\n",
        "print(A)"
      ]
    },
    {
      "cell_type": "markdown",
      "metadata": {
        "id": "hnldyFZ-RCqc"
      },
      "source": [
        "#### 75. How to compute averages using a sliding window over an array? (★★★) \n",
        "(**hint**: np.cumsum)"
      ]
    },
    {
      "cell_type": "code",
      "execution_count": null,
      "metadata": {
        "id": "HkZLj6pdRCqc"
      },
      "outputs": [],
      "source": [
        ""
      ]
    },
    {
      "cell_type": "markdown",
      "metadata": {
        "id": "Q5Jm9VkBRCqc"
      },
      "source": [
        "#### 76. Consider a one-dimensional array Z, build a two-dimensional array whose first row is (Z\\[0\\],Z\\[1\\],Z\\[2\\]) and each subsequent row is  shifted by 1 (last row should be (Z\\[-3\\],Z\\[-2\\],Z\\[-1\\]) (★★★) \n",
        "(**hint**: from numpy.lib import stride_tricks)"
      ]
    },
    {
      "cell_type": "code",
      "execution_count": null,
      "metadata": {
        "id": "r1Ftg4sERCqc"
      },
      "outputs": [],
      "source": [
        ""
      ]
    },
    {
      "cell_type": "markdown",
      "metadata": {
        "id": "uUu7FHCeRCqd"
      },
      "source": [
        "#### 77. How to negate a boolean, or to change the sign of a float inplace? (★★★) \n",
        "(**hint**: np.logical_not, np.negative)"
      ]
    },
    {
      "cell_type": "code",
      "execution_count": null,
      "metadata": {
        "id": "BYEkigdqRCqd",
        "colab": {
          "base_uri": "https://localhost:8080/"
        },
        "outputId": "d687cd93-2d08-48b2-ba83-226993a13f7c"
      },
      "outputs": [
        {
          "output_type": "execute_result",
          "data": {
            "text/plain": [
              "array([0, 3, 0, 0, 1, 4, 2, 2, 4, 2])"
            ]
          },
          "metadata": {},
          "execution_count": 122
        }
      ],
      "source": [
        "x = np.random.randint(0,5,10)\n",
        "x"
      ]
    },
    {
      "cell_type": "code",
      "source": [
        "np.logical_not(x, out=x)      # negating a boolean"
      ],
      "metadata": {
        "colab": {
          "base_uri": "https://localhost:8080/"
        },
        "id": "plHPzdljv1ec",
        "outputId": "90a5b79a-68fe-45d6-e58d-83c062e14d40"
      },
      "execution_count": null,
      "outputs": [
        {
          "output_type": "execute_result",
          "data": {
            "text/plain": [
              "array([1, 0, 1, 1, 0, 0, 0, 0, 0, 0])"
            ]
          },
          "metadata": {},
          "execution_count": 123
        }
      ]
    },
    {
      "cell_type": "code",
      "source": [
        "x = np.random.uniform(-1.0,1.0,10)\n",
        "x"
      ],
      "metadata": {
        "colab": {
          "base_uri": "https://localhost:8080/"
        },
        "id": "VUa_zfN-vnO1",
        "outputId": "525e00d7-0868-4b88-96d1-a723019f9f23"
      },
      "execution_count": null,
      "outputs": [
        {
          "output_type": "execute_result",
          "data": {
            "text/plain": [
              "array([-0.59310561, -0.82549215,  0.65199228,  0.52662003,  0.6866143 ,\n",
              "        0.74018708,  0.88936678, -0.56498095,  0.04629021,  0.75743312])"
            ]
          },
          "metadata": {},
          "execution_count": 124
        }
      ]
    },
    {
      "cell_type": "code",
      "source": [
        "np.negative(x, out=x)      # change the sign of a float inplace"
      ],
      "metadata": {
        "colab": {
          "base_uri": "https://localhost:8080/"
        },
        "id": "IDo1RPQewBAg",
        "outputId": "870dc159-1f28-4018-d2d1-f017146575d0"
      },
      "execution_count": null,
      "outputs": [
        {
          "output_type": "execute_result",
          "data": {
            "text/plain": [
              "array([ 0.59310561,  0.82549215, -0.65199228, -0.52662003, -0.6866143 ,\n",
              "       -0.74018708, -0.88936678,  0.56498095, -0.04629021, -0.75743312])"
            ]
          },
          "metadata": {},
          "execution_count": 125
        }
      ]
    },
    {
      "cell_type": "markdown",
      "metadata": {
        "id": "XDXagUrPRCqd"
      },
      "source": [
        "#### 78. Consider 2 sets of points P0,P1 describing lines (2d) and a point p, how to compute distance from p to each line i  (P0\\[i\\],P1\\[i\\])? (★★★)"
      ]
    },
    {
      "cell_type": "code",
      "execution_count": null,
      "metadata": {
        "id": "GBQTZzDURCqd"
      },
      "outputs": [],
      "source": [
        ""
      ]
    },
    {
      "cell_type": "markdown",
      "metadata": {
        "id": "7-yUlSgkRCqd"
      },
      "source": [
        "#### 79. Consider 2 sets of points P0,P1 describing lines (2d) and a set of points P, how to compute distance from each point j (P\\[j\\]) to each line i (P0\\[i\\],P1\\[i\\])? (★★★)"
      ]
    },
    {
      "cell_type": "code",
      "execution_count": null,
      "metadata": {
        "id": "1Q39InzrRCqd"
      },
      "outputs": [],
      "source": [
        ""
      ]
    },
    {
      "cell_type": "markdown",
      "metadata": {
        "id": "bHBw-pdyRCqd"
      },
      "source": [
        "#### 80. Consider an arbitrary array, write a function that extract a subpart with a fixed shape and centered on a given element (pad with a `fill` value when necessary) (★★★) \n",
        "(**hint**: minimum, maximum)"
      ]
    },
    {
      "cell_type": "code",
      "execution_count": null,
      "metadata": {
        "id": "CxW8-w3yRCqd"
      },
      "outputs": [],
      "source": [
        ""
      ]
    },
    {
      "cell_type": "markdown",
      "metadata": {
        "id": "v8xdD2jxRCqe"
      },
      "source": [
        "#### 81. Consider an array Z = \\[1,2,3,4,5,6,7,8,9,10,11,12,13,14\\], how to generate an array R = \\[\\[1,2,3,4\\], \\[2,3,4,5\\], \\[3,4,5,6\\], ..., \\[11,12,13,14\\]\\]? (★★★) \n",
        "(**hint**: stride\\_tricks.as\\_strided)"
      ]
    },
    {
      "cell_type": "code",
      "execution_count": null,
      "metadata": {
        "id": "UtDAUeyURCqe",
        "colab": {
          "base_uri": "https://localhost:8080/"
        },
        "outputId": "f99624d2-407e-4728-e7b0-addac6cf07e6"
      },
      "outputs": [
        {
          "output_type": "stream",
          "name": "stdout",
          "text": [
            "[[ 1  2  3  4]\n",
            " [ 2  3  4  5]\n",
            " [ 3  4  5  6]\n",
            " [ 4  5  6  7]\n",
            " [ 5  6  7  8]\n",
            " [ 6  7  8  9]\n",
            " [ 7  8  9 10]\n",
            " [ 8  9 10 11]\n",
            " [ 9 10 11 12]\n",
            " [10 11 12 13]\n",
            " [11 12 13 14]]\n"
          ]
        }
      ],
      "source": [
        "Z = np.arange(1, 15)\n",
        "print(np.lib.stride_tricks.sliding_window_view(Z, window_shape=4))"
      ]
    },
    {
      "cell_type": "markdown",
      "metadata": {
        "id": "_4SFHV2_RCqe"
      },
      "source": [
        "#### 82. Compute a matrix rank (★★★) \n",
        "(**hint**: np.linalg.svd) (suggestion: np.linalg.svd)"
      ]
    },
    {
      "cell_type": "markdown",
      "source": [
        "* The rank of the matrix refers to the number of linearly independent rows or columns in the matrix. \n",
        "* The rank of the matrix is the dimension of the vector space obtained by its columns. \n",
        "* A matrix is said to be of rank zero when all of its elements become zero. \n",
        "* The rank of a matrix cannot exceed more than the number of its rows or columns. The rank of the null matrix is zero."
      ],
      "metadata": {
        "id": "djHxn_LwOliM"
      }
    },
    {
      "cell_type": "code",
      "execution_count": null,
      "metadata": {
        "id": "pX0rYWfcRCqe",
        "colab": {
          "base_uri": "https://localhost:8080/"
        },
        "outputId": "d6363fe6-fabd-4af8-948b-eed8d10df721"
      },
      "outputs": [
        {
          "output_type": "execute_result",
          "data": {
            "text/plain": [
              "array([[5, 9, 5, 7, 3],\n",
              "       [9, 5, 6, 7, 0],\n",
              "       [1, 8, 4, 4, 9],\n",
              "       [3, 0, 2, 7, 8],\n",
              "       [7, 4, 0, 4, 4]])"
            ]
          },
          "metadata": {},
          "execution_count": 30
        }
      ],
      "source": [
        "Z = np.random.randint(10,size=(5,5))\n",
        "Z"
      ]
    },
    {
      "cell_type": "code",
      "source": [
        "rank = np.linalg.matrix_rank(Z)\n",
        "print(rank)"
      ],
      "metadata": {
        "colab": {
          "base_uri": "https://localhost:8080/"
        },
        "id": "KN5r2fsqMub4",
        "outputId": "817d7087-84c4-4601-d05b-a60b351f6f01"
      },
      "execution_count": null,
      "outputs": [
        {
          "output_type": "stream",
          "name": "stdout",
          "text": [
            "5\n"
          ]
        }
      ]
    },
    {
      "cell_type": "markdown",
      "metadata": {
        "id": "iQbEz8IZRCqe"
      },
      "source": [
        "#### 83. How to find the most frequent value in an array? \n",
        "(**hint**: np.bincount, argmax)"
      ]
    },
    {
      "cell_type": "code",
      "execution_count": null,
      "metadata": {
        "id": "l8CRS9-fRCqe",
        "colab": {
          "base_uri": "https://localhost:8080/"
        },
        "outputId": "7d49f705-ab01-434e-8af7-6c167a2d4268"
      },
      "outputs": [
        {
          "output_type": "execute_result",
          "data": {
            "text/plain": [
              "array([14,  8, 14,  7,  6,  6,  8,  9, 14, 11, 13,  9, 10,  7, 14,  7,  7,\n",
              "       12, 10, 14, 14, 14,  7,  8,  9, 13,  8, 13, 13,  6,  5, 14, 11, 11,\n",
              "        7,  5,  5, 11,  6,  8,  6, 12, 13, 12,  9,  8, 14, 10, 14, 14,  9,\n",
              "       14, 12,  6,  7, 12, 13, 12, 12, 12, 13, 10,  6,  7,  7, 11,  7, 13,\n",
              "       12, 14,  7,  6, 10,  8,  7, 12,  6,  8, 13,  6,  7, 13,  7, 12,  6,\n",
              "       13, 11, 14,  6,  9,  6, 10, 12, 13, 13, 13, 12,  9,  5, 14])"
            ]
          },
          "metadata": {},
          "execution_count": 39
        }
      ],
      "source": [
        "x = np.random.randint(5,15,100)\n",
        "x"
      ]
    },
    {
      "cell_type": "code",
      "source": [
        "np.bincount(x)"
      ],
      "metadata": {
        "colab": {
          "base_uri": "https://localhost:8080/"
        },
        "id": "YyfKVa4CxJZ8",
        "outputId": "9850bdca-a44c-49ce-a01b-9dcda7456153"
      },
      "execution_count": null,
      "outputs": [
        {
          "output_type": "execute_result",
          "data": {
            "text/plain": [
              "array([ 0,  0,  0,  0,  0,  4, 13, 14,  8,  7,  6,  6, 13, 14, 15])"
            ]
          },
          "metadata": {},
          "execution_count": 40
        }
      ]
    },
    {
      "cell_type": "code",
      "source": [
        "np.bincount(x).argmax()"
      ],
      "metadata": {
        "colab": {
          "base_uri": "https://localhost:8080/"
        },
        "id": "OwTbTuuZPRfq",
        "outputId": "c3e0210f-2440-4236-a1cd-5c867251e9e7"
      },
      "execution_count": null,
      "outputs": [
        {
          "output_type": "execute_result",
          "data": {
            "text/plain": [
              "14"
            ]
          },
          "metadata": {},
          "execution_count": 41
        }
      ]
    },
    {
      "cell_type": "markdown",
      "metadata": {
        "id": "whb9117YRCqg"
      },
      "source": [
        "#### 84. Extract all the contiguous 3x3 blocks from a random 10x10 matrix (★★★) \n",
        "(**hint**: stride\\_tricks.as\\_strided)"
      ]
    },
    {
      "cell_type": "code",
      "execution_count": null,
      "metadata": {
        "id": "PEpdvlQ2RCqg",
        "colab": {
          "base_uri": "https://localhost:8080/"
        },
        "outputId": "331a8d7a-1dcb-4ccc-e50b-8aae0e28852a"
      },
      "outputs": [
        {
          "output_type": "stream",
          "name": "stdout",
          "text": [
            "[[[[2 1 4]\n",
            "   [1 0 4]\n",
            "   [4 2 3]]\n",
            "\n",
            "  [[1 4 2]\n",
            "   [0 4 3]\n",
            "   [2 3 3]]\n",
            "\n",
            "  [[4 2 4]\n",
            "   [4 3 0]\n",
            "   [3 3 1]]\n",
            "\n",
            "  [[2 4 2]\n",
            "   [3 0 2]\n",
            "   [3 1 2]]\n",
            "\n",
            "  [[4 2 4]\n",
            "   [0 2 4]\n",
            "   [1 2 2]]\n",
            "\n",
            "  [[2 4 0]\n",
            "   [2 4 4]\n",
            "   [2 2 0]]\n",
            "\n",
            "  [[4 0 4]\n",
            "   [4 4 3]\n",
            "   [2 0 3]]\n",
            "\n",
            "  [[0 4 3]\n",
            "   [4 3 3]\n",
            "   [0 3 4]]]\n",
            "\n",
            "\n",
            " [[[1 0 4]\n",
            "   [4 2 3]\n",
            "   [0 0 0]]\n",
            "\n",
            "  [[0 4 3]\n",
            "   [2 3 3]\n",
            "   [0 0 4]]\n",
            "\n",
            "  [[4 3 0]\n",
            "   [3 3 1]\n",
            "   [0 4 3]]\n",
            "\n",
            "  [[3 0 2]\n",
            "   [3 1 2]\n",
            "   [4 3 3]]\n",
            "\n",
            "  [[0 2 4]\n",
            "   [1 2 2]\n",
            "   [3 3 2]]\n",
            "\n",
            "  [[2 4 4]\n",
            "   [2 2 0]\n",
            "   [3 2 1]]\n",
            "\n",
            "  [[4 4 3]\n",
            "   [2 0 3]\n",
            "   [2 1 3]]\n",
            "\n",
            "  [[4 3 3]\n",
            "   [0 3 4]\n",
            "   [1 3 3]]]\n",
            "\n",
            "\n",
            " [[[4 2 3]\n",
            "   [0 0 0]\n",
            "   [2 3 2]]\n",
            "\n",
            "  [[2 3 3]\n",
            "   [0 0 4]\n",
            "   [3 2 1]]\n",
            "\n",
            "  [[3 3 1]\n",
            "   [0 4 3]\n",
            "   [2 1 4]]\n",
            "\n",
            "  [[3 1 2]\n",
            "   [4 3 3]\n",
            "   [1 4 3]]\n",
            "\n",
            "  [[1 2 2]\n",
            "   [3 3 2]\n",
            "   [4 3 2]]\n",
            "\n",
            "  [[2 2 0]\n",
            "   [3 2 1]\n",
            "   [3 2 2]]\n",
            "\n",
            "  [[2 0 3]\n",
            "   [2 1 3]\n",
            "   [2 2 2]]\n",
            "\n",
            "  [[0 3 4]\n",
            "   [1 3 3]\n",
            "   [2 2 1]]]\n",
            "\n",
            "\n",
            " [[[0 0 0]\n",
            "   [2 3 2]\n",
            "   [4 3 0]]\n",
            "\n",
            "  [[0 0 4]\n",
            "   [3 2 1]\n",
            "   [3 0 0]]\n",
            "\n",
            "  [[0 4 3]\n",
            "   [2 1 4]\n",
            "   [0 0 1]]\n",
            "\n",
            "  [[4 3 3]\n",
            "   [1 4 3]\n",
            "   [0 1 4]]\n",
            "\n",
            "  [[3 3 2]\n",
            "   [4 3 2]\n",
            "   [1 4 0]]\n",
            "\n",
            "  [[3 2 1]\n",
            "   [3 2 2]\n",
            "   [4 0 3]]\n",
            "\n",
            "  [[2 1 3]\n",
            "   [2 2 2]\n",
            "   [0 3 2]]\n",
            "\n",
            "  [[1 3 3]\n",
            "   [2 2 1]\n",
            "   [3 2 1]]]\n",
            "\n",
            "\n",
            " [[[2 3 2]\n",
            "   [4 3 0]\n",
            "   [3 3 4]]\n",
            "\n",
            "  [[3 2 1]\n",
            "   [3 0 0]\n",
            "   [3 4 2]]\n",
            "\n",
            "  [[2 1 4]\n",
            "   [0 0 1]\n",
            "   [4 2 2]]\n",
            "\n",
            "  [[1 4 3]\n",
            "   [0 1 4]\n",
            "   [2 2 4]]\n",
            "\n",
            "  [[4 3 2]\n",
            "   [1 4 0]\n",
            "   [2 4 1]]\n",
            "\n",
            "  [[3 2 2]\n",
            "   [4 0 3]\n",
            "   [4 1 1]]\n",
            "\n",
            "  [[2 2 2]\n",
            "   [0 3 2]\n",
            "   [1 1 3]]\n",
            "\n",
            "  [[2 2 1]\n",
            "   [3 2 1]\n",
            "   [1 3 1]]]\n",
            "\n",
            "\n",
            " [[[4 3 0]\n",
            "   [3 3 4]\n",
            "   [3 2 2]]\n",
            "\n",
            "  [[3 0 0]\n",
            "   [3 4 2]\n",
            "   [2 2 3]]\n",
            "\n",
            "  [[0 0 1]\n",
            "   [4 2 2]\n",
            "   [2 3 2]]\n",
            "\n",
            "  [[0 1 4]\n",
            "   [2 2 4]\n",
            "   [3 2 3]]\n",
            "\n",
            "  [[1 4 0]\n",
            "   [2 4 1]\n",
            "   [2 3 0]]\n",
            "\n",
            "  [[4 0 3]\n",
            "   [4 1 1]\n",
            "   [3 0 0]]\n",
            "\n",
            "  [[0 3 2]\n",
            "   [1 1 3]\n",
            "   [0 0 2]]\n",
            "\n",
            "  [[3 2 1]\n",
            "   [1 3 1]\n",
            "   [0 2 4]]]\n",
            "\n",
            "\n",
            " [[[3 3 4]\n",
            "   [3 2 2]\n",
            "   [3 0 4]]\n",
            "\n",
            "  [[3 4 2]\n",
            "   [2 2 3]\n",
            "   [0 4 1]]\n",
            "\n",
            "  [[4 2 2]\n",
            "   [2 3 2]\n",
            "   [4 1 2]]\n",
            "\n",
            "  [[2 2 4]\n",
            "   [3 2 3]\n",
            "   [1 2 0]]\n",
            "\n",
            "  [[2 4 1]\n",
            "   [2 3 0]\n",
            "   [2 0 4]]\n",
            "\n",
            "  [[4 1 1]\n",
            "   [3 0 0]\n",
            "   [0 4 2]]\n",
            "\n",
            "  [[1 1 3]\n",
            "   [0 0 2]\n",
            "   [4 2 1]]\n",
            "\n",
            "  [[1 3 1]\n",
            "   [0 2 4]\n",
            "   [2 1 4]]]\n",
            "\n",
            "\n",
            " [[[3 2 2]\n",
            "   [3 0 4]\n",
            "   [4 3 4]]\n",
            "\n",
            "  [[2 2 3]\n",
            "   [0 4 1]\n",
            "   [3 4 0]]\n",
            "\n",
            "  [[2 3 2]\n",
            "   [4 1 2]\n",
            "   [4 0 0]]\n",
            "\n",
            "  [[3 2 3]\n",
            "   [1 2 0]\n",
            "   [0 0 3]]\n",
            "\n",
            "  [[2 3 0]\n",
            "   [2 0 4]\n",
            "   [0 3 3]]\n",
            "\n",
            "  [[3 0 0]\n",
            "   [0 4 2]\n",
            "   [3 3 3]]\n",
            "\n",
            "  [[0 0 2]\n",
            "   [4 2 1]\n",
            "   [3 3 0]]\n",
            "\n",
            "  [[0 2 4]\n",
            "   [2 1 4]\n",
            "   [3 0 1]]]]\n"
          ]
        }
      ],
      "source": [
        "x = np.random.randint(0,5,(10,10))\n",
        "print(np.lib.stride_tricks.sliding_window_view(x, window_shape=(3, 3)))"
      ]
    },
    {
      "cell_type": "markdown",
      "metadata": {
        "id": "EfFkNNNkRCqg"
      },
      "source": [
        "#### 85. Create a 2D array subclass such that Z\\[i,j\\] == Z\\[j,i\\] (★★★) \n",
        "(**hint**: class method)"
      ]
    },
    {
      "cell_type": "code",
      "execution_count": null,
      "metadata": {
        "id": "7wE8IrrtRCqg"
      },
      "outputs": [],
      "source": [
        ""
      ]
    },
    {
      "cell_type": "markdown",
      "metadata": {
        "id": "x-9MQwAgRCqg"
      },
      "source": [
        "#### 86. Consider a set of p matrices wich shape (n,n) and a set of p vectors with shape (n,1). How to compute the sum of of the p matrix products at once? (result has shape (n,1)) (★★★) \n",
        "(**hint**: np.tensordot)"
      ]
    },
    {
      "cell_type": "code",
      "execution_count": null,
      "metadata": {
        "id": "SMhrxku_RCqg",
        "colab": {
          "base_uri": "https://localhost:8080/"
        },
        "outputId": "3581d2b8-1b35-48d7-de52-e1ee675f746f"
      },
      "outputs": [
        {
          "output_type": "stream",
          "name": "stdout",
          "text": [
            "[[[1. 1. 1.]\n",
            "  [1. 1. 1.]\n",
            "  [1. 1. 1.]]\n",
            "\n",
            " [[1. 1. 1.]\n",
            "  [1. 1. 1.]\n",
            "  [1. 1. 1.]]]\n",
            "[[[1.]\n",
            "  [1.]\n",
            "  [1.]]\n",
            "\n",
            " [[1.]\n",
            "  [1.]\n",
            "  [1.]]]\n"
          ]
        }
      ],
      "source": [
        "p, n = 2, 3\n",
        "\n",
        "x = np.ones((p,n,n))      #  set of p matrices wich shape (n,n)\n",
        "y = np.ones((p,n,1))      #  set of p vectors with shape (n,1)\n",
        "\n",
        "print(x)\n",
        "print(y)"
      ]
    },
    {
      "cell_type": "markdown",
      "source": [
        "* axes = 0 : tensor product \n",
        "* axes = 1 : tensor dot product \n",
        "* axes = 2 : (default) tensor double contraction \n"
      ],
      "metadata": {
        "id": "M-ncqC0IRhHb"
      }
    },
    {
      "cell_type": "code",
      "source": [
        "ans = np.tensordot(x, y, axes=[[0, 2], [0, 1]])\n",
        "print(ans)"
      ],
      "metadata": {
        "colab": {
          "base_uri": "https://localhost:8080/"
        },
        "id": "Ws0JqplrQZnV",
        "outputId": "6e9eaebe-3902-4858-d971-bee3684c771c"
      },
      "execution_count": null,
      "outputs": [
        {
          "output_type": "stream",
          "name": "stdout",
          "text": [
            "[[6.]\n",
            " [6.]\n",
            " [6.]]\n"
          ]
        }
      ]
    },
    {
      "cell_type": "markdown",
      "metadata": {
        "id": "1ZQDVA4SRCqh"
      },
      "source": [
        "#### 87. Consider a 16x16 array, how to get the block-sum (block size is 4x4)? (★★★) \n",
        "(**hint**: np.add.reduceat)"
      ]
    },
    {
      "cell_type": "code",
      "execution_count": null,
      "metadata": {
        "id": "5ndBFpa2RCqh"
      },
      "outputs": [],
      "source": [
        ""
      ]
    },
    {
      "cell_type": "markdown",
      "metadata": {
        "id": "eqrmdsXERCqh"
      },
      "source": [
        "#### 88. How to implement the Game of Life using numpy arrays? (★★★)"
      ]
    },
    {
      "cell_type": "code",
      "execution_count": null,
      "metadata": {
        "id": "lTTqD8YWRCqh"
      },
      "outputs": [],
      "source": [
        ""
      ]
    },
    {
      "cell_type": "markdown",
      "metadata": {
        "id": "K1V7P8sIRCqh"
      },
      "source": [
        "#### 89. How to get the n largest values of an array (★★★) \n",
        "(**hint**: np.argsort | np.argpartition)"
      ]
    },
    {
      "cell_type": "code",
      "execution_count": null,
      "metadata": {
        "id": "h286vUEJRCqh",
        "colab": {
          "base_uri": "https://localhost:8080/"
        },
        "outputId": "fa28d778-b3c8-4159-aed2-b4d8e839238c"
      },
      "outputs": [
        {
          "output_type": "execute_result",
          "data": {
            "text/plain": [
              "array([18, 28, 94, 24, 82, 82, 63,  7, 71,  7, 22, 71, 17, 61, 90, 19, 63,\n",
              "       21,  4, 14, 87, 66, 37, 50, 58, 54,  4,  9, 34, 62,  6, 73,  7, 77,\n",
              "       74, 18, 60, 89, 65, 90, 84,  3, 50, 22, 67, 86, 99, 11, 58, 25, 26,\n",
              "       43, 66, 20, 31, 66, 60, 66, 38, 85, 75, 72, 50, 35, 96, 78, 71, 57,\n",
              "       54, 47, 51, 52, 51, 46, 85, 76, 92, 10, 57, 37, 31, 61, 47, 39, 86,\n",
              "       51, 51, 69, 54, 93, 40, 60, 72, 34, 43, 58, 71, 93, 28, 82])"
            ]
          },
          "metadata": {},
          "execution_count": 66
        }
      ],
      "source": [
        "n = 5\n",
        "x = np.random.randint(1,100,100)\n",
        "x"
      ]
    },
    {
      "cell_type": "code",
      "source": [
        "x[np.argsort(x)[-n:]]"
      ],
      "metadata": {
        "colab": {
          "base_uri": "https://localhost:8080/"
        },
        "id": "7WMspAs21fGM",
        "outputId": "6b85c2f5-f0f9-45bb-97c1-aef3cb61cbd1"
      },
      "execution_count": null,
      "outputs": [
        {
          "output_type": "execute_result",
          "data": {
            "text/plain": [
              "array([93, 93, 94, 96, 99])"
            ]
          },
          "metadata": {},
          "execution_count": 67
        }
      ]
    },
    {
      "cell_type": "code",
      "source": [
        "x[np.argpartition(-x,n)[:n]]"
      ],
      "metadata": {
        "colab": {
          "base_uri": "https://localhost:8080/"
        },
        "id": "kRO2oluI1glA",
        "outputId": "5b6e6146-a6c3-4b94-fc82-55026ce62113"
      },
      "execution_count": null,
      "outputs": [
        {
          "output_type": "execute_result",
          "data": {
            "text/plain": [
              "array([93, 96, 94, 99, 93])"
            ]
          },
          "metadata": {},
          "execution_count": 82
        }
      ]
    },
    {
      "cell_type": "markdown",
      "metadata": {
        "id": "kLgcrGNuRCqh"
      },
      "source": [
        "#### 90. Given an arbitrary number of vectors, build the cartesian product (every combinations of every item) (★★★) \n",
        "(**hint**: np.indices)"
      ]
    },
    {
      "cell_type": "code",
      "execution_count": null,
      "metadata": {
        "scrolled": true,
        "id": "jWyEEGNDRCqi"
      },
      "outputs": [],
      "source": [
        ""
      ]
    },
    {
      "cell_type": "markdown",
      "metadata": {
        "id": "EzR5qh4aRCqi"
      },
      "source": [
        "#### 91. How to create a record array from a regular array? (★★★) \n",
        "(**hint**: np.core.records.fromarrays)"
      ]
    },
    {
      "cell_type": "code",
      "execution_count": null,
      "metadata": {
        "id": "EzlWfH8fRCqi"
      },
      "outputs": [],
      "source": [
        ""
      ]
    },
    {
      "cell_type": "markdown",
      "metadata": {
        "id": "laHX9hWcRCqi"
      },
      "source": [
        "#### 92. Consider a large vector Z, compute Z to the power of 3 using 3 different methods (★★★) \n",
        "(**hint**: np.power, \\*, np.einsum)"
      ]
    },
    {
      "cell_type": "code",
      "execution_count": null,
      "metadata": {
        "id": "XRHHZJgeRCqi"
      },
      "outputs": [],
      "source": [
        ""
      ]
    },
    {
      "cell_type": "markdown",
      "metadata": {
        "id": "OnUIk8iURCqi"
      },
      "source": [
        "#### 93. Consider two arrays A and B of shape (8,3) and (2,2). How to find rows of A that contain elements of each row of B regardless of the order of the elements in B? (★★★) \n",
        "(**hint**: np.where)"
      ]
    },
    {
      "cell_type": "code",
      "execution_count": null,
      "metadata": {
        "id": "euvn3CpWRCqj"
      },
      "outputs": [],
      "source": [
        ""
      ]
    },
    {
      "cell_type": "markdown",
      "metadata": {
        "id": "AYoVtWiaRCqj"
      },
      "source": [
        "#### 94. Considering a 10x3 matrix, extract rows with unequal values (e.g. \\[2,2,3\\]) (★★★)"
      ]
    },
    {
      "cell_type": "code",
      "execution_count": null,
      "metadata": {
        "id": "aAerhwNcRCqj"
      },
      "outputs": [],
      "source": [
        ""
      ]
    },
    {
      "cell_type": "markdown",
      "metadata": {
        "id": "UL-eZvnpRCqj"
      },
      "source": [
        "#### 95. Convert a vector of ints into a matrix binary representation (★★★) \n",
        "(**hint**: np.unpackbits)"
      ]
    },
    {
      "cell_type": "code",
      "execution_count": null,
      "metadata": {
        "id": "dLR-5qmjRCqj"
      },
      "outputs": [],
      "source": [
        ""
      ]
    },
    {
      "cell_type": "markdown",
      "metadata": {
        "id": "DvQ4KcxZRCqj"
      },
      "source": [
        "#### 96. Given a two dimensional array, how to extract unique rows? (★★★) \n",
        "(**hint**: np.ascontiguousarray)"
      ]
    },
    {
      "cell_type": "code",
      "execution_count": null,
      "metadata": {
        "id": "BfpX-hUfRCqk"
      },
      "outputs": [],
      "source": [
        ""
      ]
    },
    {
      "cell_type": "markdown",
      "metadata": {
        "id": "uzN4ky93RCqk"
      },
      "source": [
        "#### 97. Considering 2 vectors A & B, write the einsum equivalent of inner, outer, sum, and mul function (★★★) \n",
        "(**hint**: np.einsum)"
      ]
    },
    {
      "cell_type": "code",
      "execution_count": null,
      "metadata": {
        "id": "-XVJqNj3RCqk"
      },
      "outputs": [],
      "source": [
        ""
      ]
    },
    {
      "cell_type": "markdown",
      "metadata": {
        "id": "N88OuLStRCqk"
      },
      "source": [
        "#### 98. Considering a path described by two vectors (X,Y), how to sample it using equidistant samples (★★★)? \n",
        "(**hint**: np.cumsum, np.interp)"
      ]
    },
    {
      "cell_type": "code",
      "execution_count": null,
      "metadata": {
        "collapsed": true,
        "id": "64lWg63xRCqk"
      },
      "outputs": [],
      "source": [
        ""
      ]
    },
    {
      "cell_type": "markdown",
      "metadata": {
        "id": "EVejuGGJRCqk"
      },
      "source": [
        "#### 99. Given an integer n and a 2D array X, select from X the rows which can be interpreted as draws from a multinomial distribution with n degrees, i.e., the rows which only contain integers and which sum to n. (★★★) \n",
        "(**hint**: np.logical\\_and.reduce, np.mod)"
      ]
    },
    {
      "cell_type": "code",
      "execution_count": null,
      "metadata": {
        "id": "t1TX9aARRCqk"
      },
      "outputs": [],
      "source": [
        ""
      ]
    },
    {
      "cell_type": "markdown",
      "metadata": {
        "id": "0HFVl1dnRCqk"
      },
      "source": [
        "#### 100. Compute bootstrapped 95% confidence intervals for the mean of a 1D array X (i.e., resample the elements of an array with replacement N times, compute the mean of each sample, and then compute percentiles over the means). (★★★) \n",
        "(**hint**: np.percentile)"
      ]
    },
    {
      "cell_type": "code",
      "execution_count": null,
      "metadata": {
        "id": "z1BacHSKRCqk"
      },
      "outputs": [],
      "source": [
        ""
      ]
    }
  ],
  "metadata": {
    "kernelspec": {
      "display_name": "Python 3",
      "language": "python",
      "name": "python3"
    },
    "language_info": {
      "codemirror_mode": {
        "name": "ipython",
        "version": 3
      },
      "file_extension": ".py",
      "mimetype": "text/x-python",
      "name": "python",
      "nbconvert_exporter": "python",
      "pygments_lexer": "ipython3",
      "version": "3.8.3"
    },
    "colab": {
      "name": "Numpy_tasks_guvi.ipynb",
      "provenance": [],
      "collapsed_sections": [
        "w6vn-iKORCqa",
        "UbohvwMWRCqb",
        "vYR5lpAkRCqb",
        "fgHFN3DkRCqc",
        "hnldyFZ-RCqc",
        "Q5Jm9VkBRCqc",
        "XDXagUrPRCqd",
        "bHBw-pdyRCqd",
        "EfFkNNNkRCqg",
        "1ZQDVA4SRCqh",
        "eqrmdsXERCqh",
        "kLgcrGNuRCqh",
        "EzR5qh4aRCqi",
        "laHX9hWcRCqi",
        "OnUIk8iURCqi",
        "AYoVtWiaRCqj",
        "UL-eZvnpRCqj",
        "DvQ4KcxZRCqj",
        "uzN4ky93RCqk",
        "N88OuLStRCqk",
        "EVejuGGJRCqk",
        "0HFVl1dnRCqk"
      ],
      "include_colab_link": true
    }
  },
  "nbformat": 4,
  "nbformat_minor": 0
}